{
 "cells": [
  {
   "cell_type": "code",
   "execution_count": 1,
   "id": "d5808fb0-5519-4004-a728-42a5953f227f",
   "metadata": {},
   "outputs": [
    {
     "name": "stdout",
     "output_type": "stream",
     "text": [
      "Hello World!\n"
     ]
    }
   ],
   "source": [
    "print(\"Hello World!\")"
   ]
  },
  {
   "cell_type": "markdown",
   "id": "6619c281-b256-4da4-83d8-f1424eb4fb11",
   "metadata": {},
   "source": [
    "### Comments"
   ]
  },
  {
   "cell_type": "markdown",
   "id": "da980298-732e-40b5-b2ec-1fbdb44ebeee",
   "metadata": {},
   "source": [
    "# Import Packages"
   ]
  },
  {
   "cell_type": "code",
   "execution_count": 2,
   "id": "fed5ba10-55e2-4a4a-bd5d-0da7d3ffe944",
   "metadata": {},
   "outputs": [],
   "source": [
    "import pandas as pd"
   ]
  },
  {
   "cell_type": "code",
   "execution_count": 3,
   "id": "6bb35f86-60af-47a0-a959-51a6de2ca826",
   "metadata": {},
   "outputs": [],
   "source": [
    "import numpy as np"
   ]
  },
  {
   "cell_type": "code",
   "execution_count": 71,
   "id": "a95a19f6-0f30-4ddc-aa57-18221b6f3583",
   "metadata": {
    "tags": []
   },
   "outputs": [
    {
     "name": "stdout",
     "output_type": "stream",
     "text": [
      "Requirement already satisfied: missingno in c:\\users\\micha\\anaconda3\\envs\\d206_practice_1\\lib\\site-packages (0.4.2)\n",
      "Requirement already satisfied: numpy in c:\\users\\micha\\anaconda3\\envs\\d206_practice_1\\lib\\site-packages (from missingno) (1.24.3)\n",
      "Requirement already satisfied: matplotlib in c:\\users\\micha\\anaconda3\\envs\\d206_practice_1\\lib\\site-packages (from missingno) (3.7.1)\n",
      "Requirement already satisfied: scipy in c:\\users\\micha\\anaconda3\\envs\\d206_practice_1\\lib\\site-packages (from missingno) (1.10.1)\n",
      "Requirement already satisfied: seaborn in c:\\users\\micha\\anaconda3\\envs\\d206_practice_1\\lib\\site-packages (from missingno) (0.12.2)\n",
      "Requirement already satisfied: contourpy>=1.0.1 in c:\\users\\micha\\anaconda3\\envs\\d206_practice_1\\lib\\site-packages (from matplotlib->missingno) (1.0.5)\n",
      "Requirement already satisfied: cycler>=0.10 in c:\\users\\micha\\anaconda3\\envs\\d206_practice_1\\lib\\site-packages (from matplotlib->missingno) (0.11.0)\n",
      "Requirement already satisfied: fonttools>=4.22.0 in c:\\users\\micha\\anaconda3\\envs\\d206_practice_1\\lib\\site-packages (from matplotlib->missingno) (4.25.0)\n",
      "Requirement already satisfied: kiwisolver>=1.0.1 in c:\\users\\micha\\anaconda3\\envs\\d206_practice_1\\lib\\site-packages (from matplotlib->missingno) (1.4.4)\n",
      "Requirement already satisfied: packaging>=20.0 in c:\\users\\micha\\anaconda3\\envs\\d206_practice_1\\lib\\site-packages (from matplotlib->missingno) (23.0)\n",
      "Requirement already satisfied: pillow>=6.2.0 in c:\\users\\micha\\anaconda3\\envs\\d206_practice_1\\lib\\site-packages (from matplotlib->missingno) (9.4.0)\n",
      "Requirement already satisfied: pyparsing>=2.3.1 in c:\\users\\micha\\anaconda3\\envs\\d206_practice_1\\lib\\site-packages (from matplotlib->missingno) (3.0.9)\n",
      "Requirement already satisfied: python-dateutil>=2.7 in c:\\users\\micha\\anaconda3\\envs\\d206_practice_1\\lib\\site-packages (from matplotlib->missingno) (2.8.2)\n",
      "Requirement already satisfied: pandas>=0.25 in c:\\users\\micha\\anaconda3\\envs\\d206_practice_1\\lib\\site-packages (from seaborn->missingno) (1.5.3)\n",
      "Requirement already satisfied: pytz>=2020.1 in c:\\users\\micha\\anaconda3\\envs\\d206_practice_1\\lib\\site-packages (from pandas>=0.25->seaborn->missingno) (2022.7)\n",
      "Requirement already satisfied: six>=1.5 in c:\\users\\micha\\anaconda3\\envs\\d206_practice_1\\lib\\site-packages (from python-dateutil>=2.7->matplotlib->missingno) (1.16.0)\n",
      "Note: you may need to restart the kernel to use updated packages.\n"
     ]
    }
   ],
   "source": [
    "pip install missingno"
   ]
  },
  {
   "cell_type": "code",
   "execution_count": 72,
   "id": "8eb3bcaa-1daa-4edb-b26e-ad388a423cfa",
   "metadata": {
    "tags": []
   },
   "outputs": [
    {
     "name": "stdout",
     "output_type": "stream",
     "text": [
      "Package                       Version\n",
      "----------------------------- ---------------\n",
      "aiofiles                      22.1.0\n",
      "aiosqlite                     0.18.0\n",
      "alabaster                     0.7.12\n",
      "anyio                         3.5.0\n",
      "appdirs                       1.4.4\n",
      "argon2-cffi                   21.3.0\n",
      "argon2-cffi-bindings          21.2.0\n",
      "arrow                         1.2.3\n",
      "astroid                       2.14.2\n",
      "asttokens                     2.0.5\n",
      "atomicwrites                  1.4.0\n",
      "attrs                         22.1.0\n",
      "autopep8                      1.6.0\n",
      "Babel                         2.11.0\n",
      "backcall                      0.2.0\n",
      "bcrypt                        3.2.0\n",
      "beautifulsoup4                4.12.2\n",
      "binaryornot                   0.4.4\n",
      "black                         0.0\n",
      "bleach                        4.1.0\n",
      "Bottleneck                    1.3.5\n",
      "brotlipy                      0.7.0\n",
      "certifi                       2023.5.7\n",
      "cffi                          1.15.1\n",
      "chardet                       4.0.0\n",
      "charset-normalizer            2.0.4\n",
      "click                         8.0.4\n",
      "cloudpickle                   2.2.1\n",
      "colorama                      0.4.6\n",
      "comm                          0.1.2\n",
      "contourpy                     1.0.5\n",
      "cookiecutter                  1.7.3\n",
      "cryptography                  39.0.1\n",
      "cycler                        0.11.0\n",
      "cytoolz                       0.12.0\n",
      "daal4py                       2023.1.1\n",
      "dask                          2023.6.0\n",
      "debugpy                       1.5.1\n",
      "decorator                     5.1.1\n",
      "defusedxml                    0.7.1\n",
      "diff-match-patch              20200713\n",
      "dill                          0.3.6\n",
      "docstring-to-markdown         0.11\n",
      "docutils                      0.18.1\n",
      "entrypoints                   0.4\n",
      "executing                     0.8.3\n",
      "fastjsonschema                2.16.2\n",
      "flake8                        6.0.0\n",
      "fonttools                     4.25.0\n",
      "fsspec                        2023.4.0\n",
      "idna                          3.4\n",
      "imagecodecs                   2021.8.26\n",
      "imageio                       2.26.0\n",
      "imagesize                     1.4.1\n",
      "importlib-metadata            6.0.0\n",
      "inflection                    0.5.1\n",
      "intervaltree                  3.1.0\n",
      "ipykernel                     6.19.2\n",
      "ipython                       8.12.0\n",
      "ipython-genutils              0.2.0\n",
      "isort                         5.9.3\n",
      "jaraco.classes                3.2.1\n",
      "jedi                          0.18.1\n",
      "jellyfish                     0.9.0\n",
      "Jinja2                        3.1.2\n",
      "jinja2-time                   0.2.0\n",
      "joblib                        1.2.0\n",
      "json5                         0.9.6\n",
      "jsonschema                    4.17.3\n",
      "jupyter_client                8.1.0\n",
      "jupyter_core                  5.3.0\n",
      "jupyter-events                0.6.3\n",
      "jupyter_server                2.5.0\n",
      "jupyter_server_fileid         0.9.0\n",
      "jupyter_server_terminals      0.4.4\n",
      "jupyter_server_ydoc           0.8.0\n",
      "jupyter-ydoc                  0.2.4\n",
      "jupyterlab                    3.6.3\n",
      "jupyterlab-pygments           0.1.2\n",
      "jupyterlab_server             2.22.0\n",
      "keyring                       23.13.1\n",
      "kiwisolver                    1.4.4\n",
      "lazy_loader                   0.2\n",
      "lazy-object-proxy             1.6.0\n",
      "locket                        1.0.0\n",
      "lxml                          4.9.2\n",
      "Markdown                      3.4.1\n",
      "markdown2                     2.4.0\n",
      "MarkupSafe                    2.1.1\n",
      "matplotlib                    3.7.1\n",
      "matplotlib-inline             0.1.6\n",
      "mccabe                        0.7.0\n",
      "missingno                     0.4.2\n",
      "mistune                       0.8.4\n",
      "mkl-fft                       1.3.6\n",
      "mkl-random                    1.2.2\n",
      "mkl-service                   2.4.0\n",
      "more-itertools                8.12.0\n",
      "munkres                       1.1.4\n",
      "mypy-extensions               0.4.3\n",
      "nbclassic                     0.5.5\n",
      "nbclient                      0.5.13\n",
      "nbconvert                     6.5.4\n",
      "nbformat                      5.7.0\n",
      "nest-asyncio                  1.5.6\n",
      "networkx                      2.8.4\n",
      "notebook                      6.5.4\n",
      "notebook_shim                 0.2.2\n",
      "numexpr                       2.8.4\n",
      "numpy                         1.24.3\n",
      "numpydoc                      1.5.0\n",
      "packaging                     23.0\n",
      "pandas                        1.5.3\n",
      "pandocfilters                 1.5.0\n",
      "paramiko                      2.8.1\n",
      "parso                         0.8.3\n",
      "partd                         1.2.0\n",
      "pathspec                      0.10.3\n",
      "patsy                         0.5.3\n",
      "pexpect                       4.8.0\n",
      "pickleshare                   0.7.5\n",
      "Pillow                        9.4.0\n",
      "pip                           23.1.2\n",
      "platformdirs                  2.5.2\n",
      "pluggy                        1.0.0\n",
      "ply                           3.11\n",
      "pooch                         1.4.0\n",
      "poyo                          0.5.0\n",
      "prometheus-client             0.14.1\n",
      "prompt-toolkit                3.0.36\n",
      "psutil                        5.9.0\n",
      "ptyprocess                    0.7.0\n",
      "pure-eval                     0.2.2\n",
      "pycodestyle                   2.10.0\n",
      "pycparser                     2.21\n",
      "pydocstyle                    6.3.0\n",
      "pyflakes                      3.0.1\n",
      "Pygments                      2.15.1\n",
      "pylint                        2.16.2\n",
      "pylint-venv                   2.3.0\n",
      "pyls-spyder                   0.4.0\n",
      "PyNaCl                        1.5.0\n",
      "pyOpenSSL                     23.0.0\n",
      "pyparsing                     3.0.9\n",
      "PyQt5                         5.15.7\n",
      "PyQt5-sip                     12.11.0\n",
      "PyQtWebEngine                 5.15.4\n",
      "pyrsistent                    0.18.0\n",
      "PySocks                       1.7.1\n",
      "python-dateutil               2.8.2\n",
      "python-json-logger            2.0.7\n",
      "python-lsp-black              1.2.1\n",
      "python-lsp-jsonrpc            1.0.0\n",
      "python-lsp-server             1.7.2\n",
      "python-slugify                5.0.2\n",
      "pytoolconfig                  1.2.5\n",
      "pytz                          2022.7\n",
      "PyWavelets                    1.4.1\n",
      "pywin32                       305.1\n",
      "pywin32-ctypes                0.2.0\n",
      "pywinpty                      2.0.10\n",
      "PyYAML                        6.0\n",
      "pyzmq                         25.1.0\n",
      "QDarkStyle                    3.0.2\n",
      "qstylizer                     0.2.2\n",
      "QtAwesome                     1.2.2\n",
      "qtconsole                     5.4.2\n",
      "QtPy                          2.2.0\n",
      "requests                      2.29.0\n",
      "rfc3339-validator             0.1.4\n",
      "rfc3986-validator             0.1.1\n",
      "rope                          1.7.0\n",
      "Rtree                         1.0.1\n",
      "scikit-image                  0.20.0\n",
      "scikit-learn                  1.2.2\n",
      "scikit-learn-intelex          20230426.121932\n",
      "scikit-plot                   0.3.7\n",
      "scipy                         1.10.1\n",
      "seaborn                       0.12.2\n",
      "Send2Trash                    1.8.0\n",
      "setuptools                    67.8.0\n",
      "sip                           6.6.2\n",
      "six                           1.16.0\n",
      "sniffio                       1.2.0\n",
      "snowballstemmer               2.2.0\n",
      "sortedcontainers              2.4.0\n",
      "soupsieve                     2.4\n",
      "Sphinx                        5.0.2\n",
      "sphinxcontrib-applehelp       1.0.2\n",
      "sphinxcontrib-devhelp         1.0.2\n",
      "sphinxcontrib-htmlhelp        2.0.0\n",
      "sphinxcontrib-jsmath          1.0.1\n",
      "sphinxcontrib-qthelp          1.0.3\n",
      "sphinxcontrib-serializinghtml 1.1.5\n",
      "spyder                        5.4.3\n",
      "spyder-kernels                2.4.3\n",
      "stack-data                    0.2.0\n",
      "statsmodels                   0.13.5\n",
      "tabulate                      0.8.10\n",
      "terminado                     0.17.1\n",
      "text-unidecode                1.3\n",
      "textdistance                  4.2.1\n",
      "threadpoolctl                 2.2.0\n",
      "three-merge                   0.1.1\n",
      "tifffile                      2021.7.2\n",
      "tinycss2                      1.2.1\n",
      "toml                          0.10.2\n",
      "tomlkit                       0.11.1\n",
      "toolz                         0.12.0\n",
      "tornado                       6.2\n",
      "traitlets                     5.7.1\n",
      "typing_extensions             4.6.3\n",
      "ujson                         5.4.0\n",
      "Unidecode                     1.2.0\n",
      "urllib3                       1.26.16\n",
      "watchdog                      2.1.6\n",
      "wcwidth                       0.2.5\n",
      "webencodings                  0.5.1\n",
      "websocket-client              0.58.0\n",
      "whatthepatch                  1.0.2\n",
      "wheel                         0.38.4\n",
      "win-inet-pton                 1.1.0\n",
      "wrapt                         1.14.1\n",
      "y-py                          0.5.9\n",
      "yapf                          0.31.0\n",
      "ypy-websocket                 0.8.2\n",
      "zipp                          3.11.0\n",
      "Note: you may need to restart the kernel to use updated packages.\n"
     ]
    }
   ],
   "source": [
    "pip list"
   ]
  },
  {
   "cell_type": "code",
   "execution_count": 4,
   "id": "c512b50a-e1d5-4e67-a662-6f455032e7cf",
   "metadata": {
    "tags": []
   },
   "outputs": [],
   "source": [
    "import missingno as msno"
   ]
  },
  {
   "cell_type": "code",
   "execution_count": 5,
   "id": "8d7405fb-bc08-4643-a77b-e779879bcba0",
   "metadata": {
    "tags": []
   },
   "outputs": [],
   "source": [
    "import statsmodels as statsm"
   ]
  },
  {
   "cell_type": "code",
   "execution_count": 6,
   "id": "37ba4f39-ddef-4250-a102-49775402ad6d",
   "metadata": {
    "tags": []
   },
   "outputs": [],
   "source": [
    "from tabulate import tabulate"
   ]
  },
  {
   "cell_type": "code",
   "execution_count": 7,
   "id": "d8ed04dd-cbdf-4b04-8438-60b989954f30",
   "metadata": {},
   "outputs": [],
   "source": [
    "import seaborn as sns"
   ]
  },
  {
   "cell_type": "code",
   "execution_count": 8,
   "id": "97e08540-8463-4c24-85a7-0a8290546c5b",
   "metadata": {
    "tags": []
   },
   "outputs": [],
   "source": [
    "from sklearn.preprocessing import scale\n",
    "from sklearn.decomposition import PCA"
   ]
  },
  {
   "cell_type": "code",
   "execution_count": 9,
   "id": "acef9603-c6da-4844-b38a-a836915b4ff7",
   "metadata": {},
   "outputs": [],
   "source": [
    "import matplotlib.pyplot as plt\n",
    "%matplotlib inline"
   ]
  },
  {
   "cell_type": "markdown",
   "id": "cffe9448-6160-4fab-bb43-5b269b05e698",
   "metadata": {},
   "source": [
    "# Set column disply then load data"
   ]
  },
  {
   "cell_type": "code",
   "execution_count": 10,
   "id": "8a148e0c-4643-42d7-b554-9c090364551e",
   "metadata": {},
   "outputs": [],
   "source": [
    "pd.set_option('display.max_columns', None)"
   ]
  },
  {
   "cell_type": "code",
   "execution_count": 11,
   "id": "58fb6133-a05c-4ea8-b4d6-0877add4cf90",
   "metadata": {},
   "outputs": [
    {
     "data": {
      "text/html": [
       "<div>\n",
       "<style scoped>\n",
       "    .dataframe tbody tr th:only-of-type {\n",
       "        vertical-align: middle;\n",
       "    }\n",
       "\n",
       "    .dataframe tbody tr th {\n",
       "        vertical-align: top;\n",
       "    }\n",
       "\n",
       "    .dataframe thead th {\n",
       "        text-align: right;\n",
       "    }\n",
       "</style>\n",
       "<table border=\"1\" class=\"dataframe\">\n",
       "  <thead>\n",
       "    <tr style=\"text-align: right;\">\n",
       "      <th></th>\n",
       "      <th>Unnamed: 0</th>\n",
       "      <th>CaseOrder</th>\n",
       "      <th>Customer_id</th>\n",
       "      <th>Interaction</th>\n",
       "      <th>City</th>\n",
       "      <th>State</th>\n",
       "      <th>County</th>\n",
       "      <th>Zip</th>\n",
       "      <th>Lat</th>\n",
       "      <th>Lng</th>\n",
       "      <th>Population</th>\n",
       "      <th>Area</th>\n",
       "      <th>Timezone</th>\n",
       "      <th>Job</th>\n",
       "      <th>Children</th>\n",
       "      <th>Age</th>\n",
       "      <th>Education</th>\n",
       "      <th>Employment</th>\n",
       "      <th>Income</th>\n",
       "      <th>Marital</th>\n",
       "      <th>Gender</th>\n",
       "      <th>Churn</th>\n",
       "      <th>Outage_sec_perweek</th>\n",
       "      <th>Email</th>\n",
       "      <th>Contacts</th>\n",
       "      <th>Yearly_equip_failure</th>\n",
       "      <th>Techie</th>\n",
       "      <th>Contract</th>\n",
       "      <th>Port_modem</th>\n",
       "      <th>Tablet</th>\n",
       "      <th>InternetService</th>\n",
       "      <th>Phone</th>\n",
       "      <th>Multiple</th>\n",
       "      <th>OnlineSecurity</th>\n",
       "      <th>OnlineBackup</th>\n",
       "      <th>DeviceProtection</th>\n",
       "      <th>TechSupport</th>\n",
       "      <th>StreamingTV</th>\n",
       "      <th>StreamingMovies</th>\n",
       "      <th>PaperlessBilling</th>\n",
       "      <th>PaymentMethod</th>\n",
       "      <th>Tenure</th>\n",
       "      <th>MonthlyCharge</th>\n",
       "      <th>Bandwidth_GB_Year</th>\n",
       "      <th>item1</th>\n",
       "      <th>item2</th>\n",
       "      <th>item3</th>\n",
       "      <th>item4</th>\n",
       "      <th>item5</th>\n",
       "      <th>item6</th>\n",
       "      <th>item7</th>\n",
       "      <th>item8</th>\n",
       "    </tr>\n",
       "  </thead>\n",
       "  <tbody>\n",
       "    <tr>\n",
       "      <th>0</th>\n",
       "      <td>1</td>\n",
       "      <td>1</td>\n",
       "      <td>K409198</td>\n",
       "      <td>aa90260b-4141-4a24-8e36-b04ce1f4f77b</td>\n",
       "      <td>Point Baker</td>\n",
       "      <td>AK</td>\n",
       "      <td>Prince of Wales-Hyder</td>\n",
       "      <td>99927</td>\n",
       "      <td>56.25100</td>\n",
       "      <td>-133.37571</td>\n",
       "      <td>38</td>\n",
       "      <td>Urban</td>\n",
       "      <td>America/Sitka</td>\n",
       "      <td>Environmental health practitioner</td>\n",
       "      <td>NaN</td>\n",
       "      <td>68.0</td>\n",
       "      <td>Master's Degree</td>\n",
       "      <td>Part Time</td>\n",
       "      <td>28561.99</td>\n",
       "      <td>Widowed</td>\n",
       "      <td>Male</td>\n",
       "      <td>No</td>\n",
       "      <td>6.972566</td>\n",
       "      <td>10</td>\n",
       "      <td>0</td>\n",
       "      <td>1</td>\n",
       "      <td>No</td>\n",
       "      <td>One year</td>\n",
       "      <td>Yes</td>\n",
       "      <td>Yes</td>\n",
       "      <td>Fiber Optic</td>\n",
       "      <td>Yes</td>\n",
       "      <td>No</td>\n",
       "      <td>Yes</td>\n",
       "      <td>Yes</td>\n",
       "      <td>No</td>\n",
       "      <td>No</td>\n",
       "      <td>No</td>\n",
       "      <td>Yes</td>\n",
       "      <td>Yes</td>\n",
       "      <td>Credit Card (automatic)</td>\n",
       "      <td>6.795513</td>\n",
       "      <td>171.449762</td>\n",
       "      <td>904.536110</td>\n",
       "      <td>5</td>\n",
       "      <td>5</td>\n",
       "      <td>5</td>\n",
       "      <td>3</td>\n",
       "      <td>4</td>\n",
       "      <td>4</td>\n",
       "      <td>3</td>\n",
       "      <td>4</td>\n",
       "    </tr>\n",
       "    <tr>\n",
       "      <th>1</th>\n",
       "      <td>2</td>\n",
       "      <td>2</td>\n",
       "      <td>S120509</td>\n",
       "      <td>fb76459f-c047-4a9d-8af9-e0f7d4ac2524</td>\n",
       "      <td>West Branch</td>\n",
       "      <td>MI</td>\n",
       "      <td>Ogemaw</td>\n",
       "      <td>48661</td>\n",
       "      <td>44.32893</td>\n",
       "      <td>-84.24080</td>\n",
       "      <td>10446</td>\n",
       "      <td>Urban</td>\n",
       "      <td>America/Detroit</td>\n",
       "      <td>Programmer, multimedia</td>\n",
       "      <td>1.0</td>\n",
       "      <td>27.0</td>\n",
       "      <td>Regular High School Diploma</td>\n",
       "      <td>Retired</td>\n",
       "      <td>21704.77</td>\n",
       "      <td>Married</td>\n",
       "      <td>Female</td>\n",
       "      <td>Yes</td>\n",
       "      <td>12.014541</td>\n",
       "      <td>12</td>\n",
       "      <td>0</td>\n",
       "      <td>1</td>\n",
       "      <td>Yes</td>\n",
       "      <td>Month-to-month</td>\n",
       "      <td>No</td>\n",
       "      <td>Yes</td>\n",
       "      <td>Fiber Optic</td>\n",
       "      <td>Yes</td>\n",
       "      <td>Yes</td>\n",
       "      <td>Yes</td>\n",
       "      <td>No</td>\n",
       "      <td>No</td>\n",
       "      <td>No</td>\n",
       "      <td>Yes</td>\n",
       "      <td>Yes</td>\n",
       "      <td>Yes</td>\n",
       "      <td>Bank Transfer(automatic)</td>\n",
       "      <td>1.156681</td>\n",
       "      <td>242.948015</td>\n",
       "      <td>800.982766</td>\n",
       "      <td>3</td>\n",
       "      <td>4</td>\n",
       "      <td>3</td>\n",
       "      <td>3</td>\n",
       "      <td>4</td>\n",
       "      <td>3</td>\n",
       "      <td>4</td>\n",
       "      <td>4</td>\n",
       "    </tr>\n",
       "    <tr>\n",
       "      <th>2</th>\n",
       "      <td>3</td>\n",
       "      <td>3</td>\n",
       "      <td>K191035</td>\n",
       "      <td>344d114c-3736-4be5-98f7-c72c281e2d35</td>\n",
       "      <td>Yamhill</td>\n",
       "      <td>OR</td>\n",
       "      <td>Yamhill</td>\n",
       "      <td>97148</td>\n",
       "      <td>45.35589</td>\n",
       "      <td>-123.24657</td>\n",
       "      <td>3735</td>\n",
       "      <td>Urban</td>\n",
       "      <td>America/Los_Angeles</td>\n",
       "      <td>Chief Financial Officer</td>\n",
       "      <td>4.0</td>\n",
       "      <td>50.0</td>\n",
       "      <td>Regular High School Diploma</td>\n",
       "      <td>Student</td>\n",
       "      <td>NaN</td>\n",
       "      <td>Widowed</td>\n",
       "      <td>Female</td>\n",
       "      <td>No</td>\n",
       "      <td>10.245616</td>\n",
       "      <td>9</td>\n",
       "      <td>0</td>\n",
       "      <td>1</td>\n",
       "      <td>Yes</td>\n",
       "      <td>Two Year</td>\n",
       "      <td>Yes</td>\n",
       "      <td>No</td>\n",
       "      <td>DSL</td>\n",
       "      <td>Yes</td>\n",
       "      <td>Yes</td>\n",
       "      <td>No</td>\n",
       "      <td>No</td>\n",
       "      <td>No</td>\n",
       "      <td>No</td>\n",
       "      <td>No</td>\n",
       "      <td>Yes</td>\n",
       "      <td>Yes</td>\n",
       "      <td>Credit Card (automatic)</td>\n",
       "      <td>15.754144</td>\n",
       "      <td>159.440398</td>\n",
       "      <td>2054.706961</td>\n",
       "      <td>4</td>\n",
       "      <td>4</td>\n",
       "      <td>2</td>\n",
       "      <td>4</td>\n",
       "      <td>4</td>\n",
       "      <td>3</td>\n",
       "      <td>3</td>\n",
       "      <td>3</td>\n",
       "    </tr>\n",
       "    <tr>\n",
       "      <th>3</th>\n",
       "      <td>4</td>\n",
       "      <td>4</td>\n",
       "      <td>D90850</td>\n",
       "      <td>abfa2b40-2d43-4994-b15a-989b8c79e311</td>\n",
       "      <td>Del Mar</td>\n",
       "      <td>CA</td>\n",
       "      <td>San Diego</td>\n",
       "      <td>92014</td>\n",
       "      <td>32.96687</td>\n",
       "      <td>-117.24798</td>\n",
       "      <td>13863</td>\n",
       "      <td>Suburban</td>\n",
       "      <td>America/Los_Angeles</td>\n",
       "      <td>Solicitor</td>\n",
       "      <td>1.0</td>\n",
       "      <td>48.0</td>\n",
       "      <td>Doctorate Degree</td>\n",
       "      <td>Retired</td>\n",
       "      <td>18925.23</td>\n",
       "      <td>Married</td>\n",
       "      <td>Male</td>\n",
       "      <td>No</td>\n",
       "      <td>15.206193</td>\n",
       "      <td>15</td>\n",
       "      <td>2</td>\n",
       "      <td>0</td>\n",
       "      <td>Yes</td>\n",
       "      <td>Two Year</td>\n",
       "      <td>No</td>\n",
       "      <td>No</td>\n",
       "      <td>DSL</td>\n",
       "      <td>Yes</td>\n",
       "      <td>No</td>\n",
       "      <td>Yes</td>\n",
       "      <td>No</td>\n",
       "      <td>No</td>\n",
       "      <td>No</td>\n",
       "      <td>Yes</td>\n",
       "      <td>No</td>\n",
       "      <td>Yes</td>\n",
       "      <td>Mailed Check</td>\n",
       "      <td>17.087227</td>\n",
       "      <td>120.249493</td>\n",
       "      <td>2164.579412</td>\n",
       "      <td>4</td>\n",
       "      <td>4</td>\n",
       "      <td>4</td>\n",
       "      <td>2</td>\n",
       "      <td>5</td>\n",
       "      <td>4</td>\n",
       "      <td>3</td>\n",
       "      <td>3</td>\n",
       "    </tr>\n",
       "    <tr>\n",
       "      <th>4</th>\n",
       "      <td>5</td>\n",
       "      <td>5</td>\n",
       "      <td>K662701</td>\n",
       "      <td>68a861fd-0d20-4e51-a587-8a90407ee574</td>\n",
       "      <td>Needville</td>\n",
       "      <td>TX</td>\n",
       "      <td>Fort Bend</td>\n",
       "      <td>77461</td>\n",
       "      <td>29.38012</td>\n",
       "      <td>-95.80673</td>\n",
       "      <td>11352</td>\n",
       "      <td>Suburban</td>\n",
       "      <td>America/Chicago</td>\n",
       "      <td>Medical illustrator</td>\n",
       "      <td>0.0</td>\n",
       "      <td>83.0</td>\n",
       "      <td>Master's Degree</td>\n",
       "      <td>Student</td>\n",
       "      <td>40074.19</td>\n",
       "      <td>Separated</td>\n",
       "      <td>Male</td>\n",
       "      <td>Yes</td>\n",
       "      <td>8.960316</td>\n",
       "      <td>16</td>\n",
       "      <td>2</td>\n",
       "      <td>1</td>\n",
       "      <td>No</td>\n",
       "      <td>Month-to-month</td>\n",
       "      <td>Yes</td>\n",
       "      <td>No</td>\n",
       "      <td>Fiber Optic</td>\n",
       "      <td>No</td>\n",
       "      <td>No</td>\n",
       "      <td>No</td>\n",
       "      <td>No</td>\n",
       "      <td>No</td>\n",
       "      <td>Yes</td>\n",
       "      <td>Yes</td>\n",
       "      <td>No</td>\n",
       "      <td>No</td>\n",
       "      <td>Mailed Check</td>\n",
       "      <td>1.670972</td>\n",
       "      <td>150.761216</td>\n",
       "      <td>271.493436</td>\n",
       "      <td>4</td>\n",
       "      <td>4</td>\n",
       "      <td>4</td>\n",
       "      <td>3</td>\n",
       "      <td>4</td>\n",
       "      <td>4</td>\n",
       "      <td>4</td>\n",
       "      <td>5</td>\n",
       "    </tr>\n",
       "  </tbody>\n",
       "</table>\n",
       "</div>"
      ],
      "text/plain": [
       "   Unnamed: 0  CaseOrder Customer_id                           Interaction  \\\n",
       "0           1          1     K409198  aa90260b-4141-4a24-8e36-b04ce1f4f77b   \n",
       "1           2          2     S120509  fb76459f-c047-4a9d-8af9-e0f7d4ac2524   \n",
       "2           3          3     K191035  344d114c-3736-4be5-98f7-c72c281e2d35   \n",
       "3           4          4      D90850  abfa2b40-2d43-4994-b15a-989b8c79e311   \n",
       "4           5          5     K662701  68a861fd-0d20-4e51-a587-8a90407ee574   \n",
       "\n",
       "          City State                 County    Zip       Lat        Lng  \\\n",
       "0  Point Baker    AK  Prince of Wales-Hyder  99927  56.25100 -133.37571   \n",
       "1  West Branch    MI                 Ogemaw  48661  44.32893  -84.24080   \n",
       "2      Yamhill    OR                Yamhill  97148  45.35589 -123.24657   \n",
       "3      Del Mar    CA              San Diego  92014  32.96687 -117.24798   \n",
       "4    Needville    TX              Fort Bend  77461  29.38012  -95.80673   \n",
       "\n",
       "   Population      Area             Timezone  \\\n",
       "0          38     Urban        America/Sitka   \n",
       "1       10446     Urban      America/Detroit   \n",
       "2        3735     Urban  America/Los_Angeles   \n",
       "3       13863  Suburban  America/Los_Angeles   \n",
       "4       11352  Suburban      America/Chicago   \n",
       "\n",
       "                                 Job  Children   Age  \\\n",
       "0  Environmental health practitioner       NaN  68.0   \n",
       "1             Programmer, multimedia       1.0  27.0   \n",
       "2            Chief Financial Officer       4.0  50.0   \n",
       "3                          Solicitor       1.0  48.0   \n",
       "4                Medical illustrator       0.0  83.0   \n",
       "\n",
       "                     Education Employment    Income    Marital  Gender Churn  \\\n",
       "0              Master's Degree  Part Time  28561.99    Widowed    Male    No   \n",
       "1  Regular High School Diploma    Retired  21704.77    Married  Female   Yes   \n",
       "2  Regular High School Diploma    Student       NaN    Widowed  Female    No   \n",
       "3             Doctorate Degree    Retired  18925.23    Married    Male    No   \n",
       "4              Master's Degree    Student  40074.19  Separated    Male   Yes   \n",
       "\n",
       "   Outage_sec_perweek  Email  Contacts  Yearly_equip_failure Techie  \\\n",
       "0            6.972566     10         0                     1     No   \n",
       "1           12.014541     12         0                     1    Yes   \n",
       "2           10.245616      9         0                     1    Yes   \n",
       "3           15.206193     15         2                     0    Yes   \n",
       "4            8.960316     16         2                     1     No   \n",
       "\n",
       "         Contract Port_modem Tablet InternetService Phone Multiple  \\\n",
       "0        One year        Yes    Yes     Fiber Optic   Yes       No   \n",
       "1  Month-to-month         No    Yes     Fiber Optic   Yes      Yes   \n",
       "2        Two Year        Yes     No             DSL   Yes      Yes   \n",
       "3        Two Year         No     No             DSL   Yes       No   \n",
       "4  Month-to-month        Yes     No     Fiber Optic    No       No   \n",
       "\n",
       "  OnlineSecurity OnlineBackup DeviceProtection TechSupport StreamingTV  \\\n",
       "0            Yes          Yes               No          No          No   \n",
       "1            Yes           No               No          No         Yes   \n",
       "2             No           No               No          No          No   \n",
       "3            Yes           No               No          No         Yes   \n",
       "4             No           No               No         Yes         Yes   \n",
       "\n",
       "  StreamingMovies PaperlessBilling             PaymentMethod     Tenure  \\\n",
       "0             Yes              Yes   Credit Card (automatic)   6.795513   \n",
       "1             Yes              Yes  Bank Transfer(automatic)   1.156681   \n",
       "2             Yes              Yes   Credit Card (automatic)  15.754144   \n",
       "3              No              Yes              Mailed Check  17.087227   \n",
       "4              No               No              Mailed Check   1.670972   \n",
       "\n",
       "   MonthlyCharge  Bandwidth_GB_Year  item1  item2  item3  item4  item5  item6  \\\n",
       "0     171.449762         904.536110      5      5      5      3      4      4   \n",
       "1     242.948015         800.982766      3      4      3      3      4      3   \n",
       "2     159.440398        2054.706961      4      4      2      4      4      3   \n",
       "3     120.249493        2164.579412      4      4      4      2      5      4   \n",
       "4     150.761216         271.493436      4      4      4      3      4      4   \n",
       "\n",
       "   item7  item8  \n",
       "0      3      4  \n",
       "1      4      4  \n",
       "2      3      3  \n",
       "3      3      3  \n",
       "4      4      5  "
      ]
     },
     "execution_count": 11,
     "metadata": {},
     "output_type": "execute_result"
    }
   ],
   "source": [
    "churn_df=pd.read_csv('D:\\WGU\\D206 Data Cleaning\\churn_raw_data.csv')\n",
    "churn_df.head()"
   ]
  },
  {
   "cell_type": "code",
   "execution_count": 12,
   "id": "f4407927-34c6-4e10-b477-c6fc47a9e55a",
   "metadata": {},
   "outputs": [
    {
     "name": "stdout",
     "output_type": "stream",
     "text": [
      "      Unnamed: 0  CaseOrder Customer_id                           Interaction  \\\n",
      "0              1          1     K409198  aa90260b-4141-4a24-8e36-b04ce1f4f77b   \n",
      "1              2          2     S120509  fb76459f-c047-4a9d-8af9-e0f7d4ac2524   \n",
      "2              3          3     K191035  344d114c-3736-4be5-98f7-c72c281e2d35   \n",
      "3              4          4      D90850  abfa2b40-2d43-4994-b15a-989b8c79e311   \n",
      "4              5          5     K662701  68a861fd-0d20-4e51-a587-8a90407ee574   \n",
      "...          ...        ...         ...                                   ...   \n",
      "9995        9996       9996     M324793  45deb5a2-ae04-4518-bf0b-c82db8dbe4a4   \n",
      "9996        9997       9997     D861732  6e96b921-0c09-4993-bbda-a1ac6411061a   \n",
      "9997        9998       9998     I243405  e8307ddf-9a01-4fff-bc59-4742e03fd24f   \n",
      "9998        9999       9999     I641617  3775ccfc-0052-4107-81ae-9657f81ecdf3   \n",
      "9999       10000      10000      T38070  9de5fb6e-bd33-4995-aec8-f01d0172a499   \n",
      "\n",
      "              City State                 County    Zip       Lat        Lng  \\\n",
      "0      Point Baker    AK  Prince of Wales-Hyder  99927  56.25100 -133.37571   \n",
      "1      West Branch    MI                 Ogemaw  48661  44.32893  -84.24080   \n",
      "2          Yamhill    OR                Yamhill  97148  45.35589 -123.24657   \n",
      "3          Del Mar    CA              San Diego  92014  32.96687 -117.24798   \n",
      "4        Needville    TX              Fort Bend  77461  29.38012  -95.80673   \n",
      "...            ...   ...                    ...    ...       ...        ...   \n",
      "9995   Mount Holly    VT                Rutland   5758  43.43391  -72.78734   \n",
      "9996   Clarksville    TN             Montgomery  37042  36.56907  -87.41694   \n",
      "9997      Mobeetie    TX                Wheeler  79061  35.52039 -100.44180   \n",
      "9998    Carrollton    GA                Carroll  30117  33.58016  -85.13241   \n",
      "9999  Clarkesville    GA              Habersham  30523  34.70783  -83.53648   \n",
      "\n",
      "      Population      Area             Timezone  \\\n",
      "0             38     Urban        America/Sitka   \n",
      "1          10446     Urban      America/Detroit   \n",
      "2           3735     Urban  America/Los_Angeles   \n",
      "3          13863  Suburban  America/Los_Angeles   \n",
      "4          11352  Suburban      America/Chicago   \n",
      "...          ...       ...                  ...   \n",
      "9995         640     Rural     America/New_York   \n",
      "9996       77168     Rural      America/Chicago   \n",
      "9997         406     Rural      America/Chicago   \n",
      "9998       35575     Urban     America/New_York   \n",
      "9999       12230     Urban     America/New_York   \n",
      "\n",
      "                                    Job  Children   Age  \\\n",
      "0     Environmental health practitioner       NaN  68.0   \n",
      "1                Programmer, multimedia       1.0  27.0   \n",
      "2               Chief Financial Officer       4.0  50.0   \n",
      "3                             Solicitor       1.0  48.0   \n",
      "4                   Medical illustrator       0.0  83.0   \n",
      "...                                 ...       ...   ...   \n",
      "9995    Sport and exercise psychologist       3.0   NaN   \n",
      "9996          Consulting civil engineer       4.0  48.0   \n",
      "9997       IT technical support officer       NaN   NaN   \n",
      "9998                     Water engineer       1.0  39.0   \n",
      "9999                 Personal assistant       1.0  28.0   \n",
      "\n",
      "                           Education Employment    Income        Marital  \\\n",
      "0                    Master's Degree  Part Time  28561.99        Widowed   \n",
      "1        Regular High School Diploma    Retired  21704.77        Married   \n",
      "2        Regular High School Diploma    Student       NaN        Widowed   \n",
      "3                   Doctorate Degree    Retired  18925.23        Married   \n",
      "4                    Master's Degree    Student  40074.19      Separated   \n",
      "...                              ...        ...       ...            ...   \n",
      "9995  Some College, Less than 1 Year    Retired  55723.74        Married   \n",
      "9996     Regular High School Diploma  Part Time       NaN       Divorced   \n",
      "9997     Nursery School to 8th Grade  Full Time       NaN  Never Married   \n",
      "9998               Bachelor's Degree  Full Time  16667.58      Separated   \n",
      "9999   GED or Alternative Credential  Full Time       NaN  Never Married   \n",
      "\n",
      "      Gender Churn  Outage_sec_perweek  Email  Contacts  Yearly_equip_failure  \\\n",
      "0       Male    No            6.972566     10         0                     1   \n",
      "1     Female   Yes           12.014541     12         0                     1   \n",
      "2     Female    No           10.245616      9         0                     1   \n",
      "3       Male    No           15.206193     15         2                     0   \n",
      "4       Male   Yes            8.960316     16         2                     1   \n",
      "...      ...   ...                 ...    ...       ...                   ...   \n",
      "9995    Male    No            9.265392     12         2                     0   \n",
      "9996    Male    No            8.115849     15         2                     0   \n",
      "9997  Female    No            4.837696     10         0                     0   \n",
      "9998    Male    No           12.076460     14         1                     0   \n",
      "9999    Male    No           12.641760     17         1                     0   \n",
      "\n",
      "     Techie        Contract Port_modem Tablet InternetService Phone Multiple  \\\n",
      "0        No        One year        Yes    Yes     Fiber Optic   Yes       No   \n",
      "1       Yes  Month-to-month         No    Yes     Fiber Optic   Yes      Yes   \n",
      "2       Yes        Two Year        Yes     No             DSL   Yes      Yes   \n",
      "3       Yes        Two Year         No     No             DSL   Yes       No   \n",
      "4        No  Month-to-month        Yes     No     Fiber Optic    No       No   \n",
      "...     ...             ...        ...    ...             ...   ...      ...   \n",
      "9995    NaN  Month-to-month        Yes    Yes             DSL   NaN      Yes   \n",
      "9996    NaN        Two Year         No     No     Fiber Optic   NaN      Yes   \n",
      "9997     No  Month-to-month         No     No     Fiber Optic   Yes      Yes   \n",
      "9998     No        Two Year         No    Yes     Fiber Optic    No      Yes   \n",
      "9999    NaN  Month-to-month        Yes     No     Fiber Optic   Yes      Yes   \n",
      "\n",
      "     OnlineSecurity OnlineBackup DeviceProtection TechSupport StreamingTV  \\\n",
      "0               Yes          Yes               No          No          No   \n",
      "1               Yes           No               No          No         Yes   \n",
      "2                No           No               No          No          No   \n",
      "3               Yes           No               No          No         Yes   \n",
      "4                No           No               No         Yes         Yes   \n",
      "...             ...          ...              ...         ...         ...   \n",
      "9995             No          Yes              Yes          No          No   \n",
      "9996            Yes          Yes              Yes          No         Yes   \n",
      "9997            Yes          Yes               No          No          No   \n",
      "9998             No           No               No         Yes         Yes   \n",
      "9999            Yes          Yes              Yes          No          No   \n",
      "\n",
      "     StreamingMovies PaperlessBilling             PaymentMethod     Tenure  \\\n",
      "0                Yes              Yes   Credit Card (automatic)   6.795513   \n",
      "1                Yes              Yes  Bank Transfer(automatic)   1.156681   \n",
      "2                Yes              Yes   Credit Card (automatic)  15.754144   \n",
      "3                 No              Yes              Mailed Check  17.087227   \n",
      "4                 No               No              Mailed Check   1.670972   \n",
      "...              ...              ...                       ...        ...   \n",
      "9995              No               No          Electronic Check  68.197130   \n",
      "9996              No               No          Electronic Check  61.040370   \n",
      "9997              No              Yes  Bank Transfer(automatic)        NaN   \n",
      "9998             Yes              Yes   Credit Card (automatic)  71.095600   \n",
      "9999             Yes              Yes          Electronic Check  63.350860   \n",
      "\n",
      "      MonthlyCharge  Bandwidth_GB_Year  item1  item2  item3  item4  item5  \\\n",
      "0        171.449762         904.536110      5      5      5      3      4   \n",
      "1        242.948015         800.982766      3      4      3      3      4   \n",
      "2        159.440398        2054.706961      4      4      2      4      4   \n",
      "3        120.249493        2164.579412      4      4      4      2      5   \n",
      "4        150.761216         271.493436      4      4      4      3      4   \n",
      "...             ...                ...    ...    ...    ...    ...    ...   \n",
      "9995     159.828800        6511.253000      3      2      3      3      4   \n",
      "9996     208.856400        5695.952000      4      5      5      4      4   \n",
      "9997     168.220900        4159.306000      4      4      4      4      4   \n",
      "9998     252.628600        6468.457000      4      4      6      4      3   \n",
      "9999     218.371000        5857.586000      2      2      3      3      3   \n",
      "\n",
      "      item6  item7  item8  \n",
      "0         4      3      4  \n",
      "1         3      4      4  \n",
      "2         3      3      3  \n",
      "3         4      3      3  \n",
      "4         4      4      5  \n",
      "...     ...    ...    ...  \n",
      "9995      3      2      3  \n",
      "9996      5      2      5  \n",
      "9997      4      4      5  \n",
      "9998      3      5      4  \n",
      "9999      3      4      1  \n",
      "\n",
      "[10000 rows x 52 columns]\n"
     ]
    }
   ],
   "source": [
    "print(churn_df)"
   ]
  },
  {
   "cell_type": "markdown",
   "id": "e8a498b8-83b9-405b-a6ff-2ee235d978e4",
   "metadata": {},
   "source": [
    "## Examen the dataframe Column Names"
   ]
  },
  {
   "cell_type": "code",
   "execution_count": 13,
   "id": "24aaf15e-e227-4eea-a6fa-7dd707b05aa5",
   "metadata": {},
   "outputs": [
    {
     "name": "stdout",
     "output_type": "stream",
     "text": [
      "Index(['Unnamed: 0', 'CaseOrder', 'Customer_id', 'Interaction', 'City',\n",
      "       'State', 'County', 'Zip', 'Lat', 'Lng', 'Population', 'Area',\n",
      "       'Timezone', 'Job', 'Children', 'Age', 'Education', 'Employment',\n",
      "       'Income', 'Marital', 'Gender', 'Churn', 'Outage_sec_perweek', 'Email',\n",
      "       'Contacts', 'Yearly_equip_failure', 'Techie', 'Contract', 'Port_modem',\n",
      "       'Tablet', 'InternetService', 'Phone', 'Multiple', 'OnlineSecurity',\n",
      "       'OnlineBackup', 'DeviceProtection', 'TechSupport', 'StreamingTV',\n",
      "       'StreamingMovies', 'PaperlessBilling', 'PaymentMethod', 'Tenure',\n",
      "       'MonthlyCharge', 'Bandwidth_GB_Year', 'item1', 'item2', 'item3',\n",
      "       'item4', 'item5', 'item6', 'item7', 'item8'],\n",
      "      dtype='object')\n"
     ]
    }
   ],
   "source": [
    "churn_columns = churn_df.columns\n",
    "print(churn_columns)"
   ]
  },
  {
   "cell_type": "code",
   "execution_count": 14,
   "id": "6567d6e1-ed6a-48ae-9438-6959e560c946",
   "metadata": {
    "tags": []
   },
   "outputs": [
    {
     "data": {
      "text/plain": [
       "(10000, 52)"
      ]
     },
     "execution_count": 14,
     "metadata": {},
     "output_type": "execute_result"
    }
   ],
   "source": [
    "# verify number of records\n",
    "churn_df.shape"
   ]
  },
  {
   "cell_type": "markdown",
   "id": "e50c740d-69d8-4c32-b884-2248a3ba403d",
   "metadata": {},
   "source": [
    "### Remove duplicate *Unnamed* Column"
   ]
  },
  {
   "cell_type": "code",
   "execution_count": 15,
   "id": "e046668a-6992-460c-a949-0aa087f98c13",
   "metadata": {
    "tags": []
   },
   "outputs": [
    {
     "data": {
      "text/html": [
       "<div>\n",
       "<style scoped>\n",
       "    .dataframe tbody tr th:only-of-type {\n",
       "        vertical-align: middle;\n",
       "    }\n",
       "\n",
       "    .dataframe tbody tr th {\n",
       "        vertical-align: top;\n",
       "    }\n",
       "\n",
       "    .dataframe thead th {\n",
       "        text-align: right;\n",
       "    }\n",
       "</style>\n",
       "<table border=\"1\" class=\"dataframe\">\n",
       "  <thead>\n",
       "    <tr style=\"text-align: right;\">\n",
       "      <th></th>\n",
       "      <th>CaseOrder</th>\n",
       "      <th>Customer_id</th>\n",
       "      <th>Interaction</th>\n",
       "      <th>City</th>\n",
       "      <th>State</th>\n",
       "      <th>County</th>\n",
       "      <th>Zip</th>\n",
       "      <th>Lat</th>\n",
       "      <th>Lng</th>\n",
       "      <th>Population</th>\n",
       "      <th>Area</th>\n",
       "      <th>Timezone</th>\n",
       "      <th>Job</th>\n",
       "      <th>Children</th>\n",
       "      <th>Age</th>\n",
       "      <th>Education</th>\n",
       "      <th>Employment</th>\n",
       "      <th>Income</th>\n",
       "      <th>Marital</th>\n",
       "      <th>Gender</th>\n",
       "      <th>Churn</th>\n",
       "      <th>Outage_sec_perweek</th>\n",
       "      <th>Email</th>\n",
       "      <th>Contacts</th>\n",
       "      <th>Yearly_equip_failure</th>\n",
       "      <th>Techie</th>\n",
       "      <th>Contract</th>\n",
       "      <th>Port_modem</th>\n",
       "      <th>Tablet</th>\n",
       "      <th>InternetService</th>\n",
       "      <th>Phone</th>\n",
       "      <th>Multiple</th>\n",
       "      <th>OnlineSecurity</th>\n",
       "      <th>OnlineBackup</th>\n",
       "      <th>DeviceProtection</th>\n",
       "      <th>TechSupport</th>\n",
       "      <th>StreamingTV</th>\n",
       "      <th>StreamingMovies</th>\n",
       "      <th>PaperlessBilling</th>\n",
       "      <th>PaymentMethod</th>\n",
       "      <th>Tenure</th>\n",
       "      <th>MonthlyCharge</th>\n",
       "      <th>Bandwidth_GB_Year</th>\n",
       "      <th>item1</th>\n",
       "      <th>item2</th>\n",
       "      <th>item3</th>\n",
       "      <th>item4</th>\n",
       "      <th>item5</th>\n",
       "      <th>item6</th>\n",
       "      <th>item7</th>\n",
       "      <th>item8</th>\n",
       "    </tr>\n",
       "  </thead>\n",
       "  <tbody>\n",
       "    <tr>\n",
       "      <th>0</th>\n",
       "      <td>1</td>\n",
       "      <td>K409198</td>\n",
       "      <td>aa90260b-4141-4a24-8e36-b04ce1f4f77b</td>\n",
       "      <td>Point Baker</td>\n",
       "      <td>AK</td>\n",
       "      <td>Prince of Wales-Hyder</td>\n",
       "      <td>99927</td>\n",
       "      <td>56.25100</td>\n",
       "      <td>-133.37571</td>\n",
       "      <td>38</td>\n",
       "      <td>Urban</td>\n",
       "      <td>America/Sitka</td>\n",
       "      <td>Environmental health practitioner</td>\n",
       "      <td>NaN</td>\n",
       "      <td>68.0</td>\n",
       "      <td>Master's Degree</td>\n",
       "      <td>Part Time</td>\n",
       "      <td>28561.99</td>\n",
       "      <td>Widowed</td>\n",
       "      <td>Male</td>\n",
       "      <td>No</td>\n",
       "      <td>6.972566</td>\n",
       "      <td>10</td>\n",
       "      <td>0</td>\n",
       "      <td>1</td>\n",
       "      <td>No</td>\n",
       "      <td>One year</td>\n",
       "      <td>Yes</td>\n",
       "      <td>Yes</td>\n",
       "      <td>Fiber Optic</td>\n",
       "      <td>Yes</td>\n",
       "      <td>No</td>\n",
       "      <td>Yes</td>\n",
       "      <td>Yes</td>\n",
       "      <td>No</td>\n",
       "      <td>No</td>\n",
       "      <td>No</td>\n",
       "      <td>Yes</td>\n",
       "      <td>Yes</td>\n",
       "      <td>Credit Card (automatic)</td>\n",
       "      <td>6.795513</td>\n",
       "      <td>171.449762</td>\n",
       "      <td>904.536110</td>\n",
       "      <td>5</td>\n",
       "      <td>5</td>\n",
       "      <td>5</td>\n",
       "      <td>3</td>\n",
       "      <td>4</td>\n",
       "      <td>4</td>\n",
       "      <td>3</td>\n",
       "      <td>4</td>\n",
       "    </tr>\n",
       "    <tr>\n",
       "      <th>1</th>\n",
       "      <td>2</td>\n",
       "      <td>S120509</td>\n",
       "      <td>fb76459f-c047-4a9d-8af9-e0f7d4ac2524</td>\n",
       "      <td>West Branch</td>\n",
       "      <td>MI</td>\n",
       "      <td>Ogemaw</td>\n",
       "      <td>48661</td>\n",
       "      <td>44.32893</td>\n",
       "      <td>-84.24080</td>\n",
       "      <td>10446</td>\n",
       "      <td>Urban</td>\n",
       "      <td>America/Detroit</td>\n",
       "      <td>Programmer, multimedia</td>\n",
       "      <td>1.0</td>\n",
       "      <td>27.0</td>\n",
       "      <td>Regular High School Diploma</td>\n",
       "      <td>Retired</td>\n",
       "      <td>21704.77</td>\n",
       "      <td>Married</td>\n",
       "      <td>Female</td>\n",
       "      <td>Yes</td>\n",
       "      <td>12.014541</td>\n",
       "      <td>12</td>\n",
       "      <td>0</td>\n",
       "      <td>1</td>\n",
       "      <td>Yes</td>\n",
       "      <td>Month-to-month</td>\n",
       "      <td>No</td>\n",
       "      <td>Yes</td>\n",
       "      <td>Fiber Optic</td>\n",
       "      <td>Yes</td>\n",
       "      <td>Yes</td>\n",
       "      <td>Yes</td>\n",
       "      <td>No</td>\n",
       "      <td>No</td>\n",
       "      <td>No</td>\n",
       "      <td>Yes</td>\n",
       "      <td>Yes</td>\n",
       "      <td>Yes</td>\n",
       "      <td>Bank Transfer(automatic)</td>\n",
       "      <td>1.156681</td>\n",
       "      <td>242.948015</td>\n",
       "      <td>800.982766</td>\n",
       "      <td>3</td>\n",
       "      <td>4</td>\n",
       "      <td>3</td>\n",
       "      <td>3</td>\n",
       "      <td>4</td>\n",
       "      <td>3</td>\n",
       "      <td>4</td>\n",
       "      <td>4</td>\n",
       "    </tr>\n",
       "    <tr>\n",
       "      <th>2</th>\n",
       "      <td>3</td>\n",
       "      <td>K191035</td>\n",
       "      <td>344d114c-3736-4be5-98f7-c72c281e2d35</td>\n",
       "      <td>Yamhill</td>\n",
       "      <td>OR</td>\n",
       "      <td>Yamhill</td>\n",
       "      <td>97148</td>\n",
       "      <td>45.35589</td>\n",
       "      <td>-123.24657</td>\n",
       "      <td>3735</td>\n",
       "      <td>Urban</td>\n",
       "      <td>America/Los_Angeles</td>\n",
       "      <td>Chief Financial Officer</td>\n",
       "      <td>4.0</td>\n",
       "      <td>50.0</td>\n",
       "      <td>Regular High School Diploma</td>\n",
       "      <td>Student</td>\n",
       "      <td>NaN</td>\n",
       "      <td>Widowed</td>\n",
       "      <td>Female</td>\n",
       "      <td>No</td>\n",
       "      <td>10.245616</td>\n",
       "      <td>9</td>\n",
       "      <td>0</td>\n",
       "      <td>1</td>\n",
       "      <td>Yes</td>\n",
       "      <td>Two Year</td>\n",
       "      <td>Yes</td>\n",
       "      <td>No</td>\n",
       "      <td>DSL</td>\n",
       "      <td>Yes</td>\n",
       "      <td>Yes</td>\n",
       "      <td>No</td>\n",
       "      <td>No</td>\n",
       "      <td>No</td>\n",
       "      <td>No</td>\n",
       "      <td>No</td>\n",
       "      <td>Yes</td>\n",
       "      <td>Yes</td>\n",
       "      <td>Credit Card (automatic)</td>\n",
       "      <td>15.754144</td>\n",
       "      <td>159.440398</td>\n",
       "      <td>2054.706961</td>\n",
       "      <td>4</td>\n",
       "      <td>4</td>\n",
       "      <td>2</td>\n",
       "      <td>4</td>\n",
       "      <td>4</td>\n",
       "      <td>3</td>\n",
       "      <td>3</td>\n",
       "      <td>3</td>\n",
       "    </tr>\n",
       "    <tr>\n",
       "      <th>3</th>\n",
       "      <td>4</td>\n",
       "      <td>D90850</td>\n",
       "      <td>abfa2b40-2d43-4994-b15a-989b8c79e311</td>\n",
       "      <td>Del Mar</td>\n",
       "      <td>CA</td>\n",
       "      <td>San Diego</td>\n",
       "      <td>92014</td>\n",
       "      <td>32.96687</td>\n",
       "      <td>-117.24798</td>\n",
       "      <td>13863</td>\n",
       "      <td>Suburban</td>\n",
       "      <td>America/Los_Angeles</td>\n",
       "      <td>Solicitor</td>\n",
       "      <td>1.0</td>\n",
       "      <td>48.0</td>\n",
       "      <td>Doctorate Degree</td>\n",
       "      <td>Retired</td>\n",
       "      <td>18925.23</td>\n",
       "      <td>Married</td>\n",
       "      <td>Male</td>\n",
       "      <td>No</td>\n",
       "      <td>15.206193</td>\n",
       "      <td>15</td>\n",
       "      <td>2</td>\n",
       "      <td>0</td>\n",
       "      <td>Yes</td>\n",
       "      <td>Two Year</td>\n",
       "      <td>No</td>\n",
       "      <td>No</td>\n",
       "      <td>DSL</td>\n",
       "      <td>Yes</td>\n",
       "      <td>No</td>\n",
       "      <td>Yes</td>\n",
       "      <td>No</td>\n",
       "      <td>No</td>\n",
       "      <td>No</td>\n",
       "      <td>Yes</td>\n",
       "      <td>No</td>\n",
       "      <td>Yes</td>\n",
       "      <td>Mailed Check</td>\n",
       "      <td>17.087227</td>\n",
       "      <td>120.249493</td>\n",
       "      <td>2164.579412</td>\n",
       "      <td>4</td>\n",
       "      <td>4</td>\n",
       "      <td>4</td>\n",
       "      <td>2</td>\n",
       "      <td>5</td>\n",
       "      <td>4</td>\n",
       "      <td>3</td>\n",
       "      <td>3</td>\n",
       "    </tr>\n",
       "    <tr>\n",
       "      <th>4</th>\n",
       "      <td>5</td>\n",
       "      <td>K662701</td>\n",
       "      <td>68a861fd-0d20-4e51-a587-8a90407ee574</td>\n",
       "      <td>Needville</td>\n",
       "      <td>TX</td>\n",
       "      <td>Fort Bend</td>\n",
       "      <td>77461</td>\n",
       "      <td>29.38012</td>\n",
       "      <td>-95.80673</td>\n",
       "      <td>11352</td>\n",
       "      <td>Suburban</td>\n",
       "      <td>America/Chicago</td>\n",
       "      <td>Medical illustrator</td>\n",
       "      <td>0.0</td>\n",
       "      <td>83.0</td>\n",
       "      <td>Master's Degree</td>\n",
       "      <td>Student</td>\n",
       "      <td>40074.19</td>\n",
       "      <td>Separated</td>\n",
       "      <td>Male</td>\n",
       "      <td>Yes</td>\n",
       "      <td>8.960316</td>\n",
       "      <td>16</td>\n",
       "      <td>2</td>\n",
       "      <td>1</td>\n",
       "      <td>No</td>\n",
       "      <td>Month-to-month</td>\n",
       "      <td>Yes</td>\n",
       "      <td>No</td>\n",
       "      <td>Fiber Optic</td>\n",
       "      <td>No</td>\n",
       "      <td>No</td>\n",
       "      <td>No</td>\n",
       "      <td>No</td>\n",
       "      <td>No</td>\n",
       "      <td>Yes</td>\n",
       "      <td>Yes</td>\n",
       "      <td>No</td>\n",
       "      <td>No</td>\n",
       "      <td>Mailed Check</td>\n",
       "      <td>1.670972</td>\n",
       "      <td>150.761216</td>\n",
       "      <td>271.493436</td>\n",
       "      <td>4</td>\n",
       "      <td>4</td>\n",
       "      <td>4</td>\n",
       "      <td>3</td>\n",
       "      <td>4</td>\n",
       "      <td>4</td>\n",
       "      <td>4</td>\n",
       "      <td>5</td>\n",
       "    </tr>\n",
       "  </tbody>\n",
       "</table>\n",
       "</div>"
      ],
      "text/plain": [
       "   CaseOrder Customer_id                           Interaction         City  \\\n",
       "0          1     K409198  aa90260b-4141-4a24-8e36-b04ce1f4f77b  Point Baker   \n",
       "1          2     S120509  fb76459f-c047-4a9d-8af9-e0f7d4ac2524  West Branch   \n",
       "2          3     K191035  344d114c-3736-4be5-98f7-c72c281e2d35      Yamhill   \n",
       "3          4      D90850  abfa2b40-2d43-4994-b15a-989b8c79e311      Del Mar   \n",
       "4          5     K662701  68a861fd-0d20-4e51-a587-8a90407ee574    Needville   \n",
       "\n",
       "  State                 County    Zip       Lat        Lng  Population  \\\n",
       "0    AK  Prince of Wales-Hyder  99927  56.25100 -133.37571          38   \n",
       "1    MI                 Ogemaw  48661  44.32893  -84.24080       10446   \n",
       "2    OR                Yamhill  97148  45.35589 -123.24657        3735   \n",
       "3    CA              San Diego  92014  32.96687 -117.24798       13863   \n",
       "4    TX              Fort Bend  77461  29.38012  -95.80673       11352   \n",
       "\n",
       "       Area             Timezone                                Job  Children  \\\n",
       "0     Urban        America/Sitka  Environmental health practitioner       NaN   \n",
       "1     Urban      America/Detroit             Programmer, multimedia       1.0   \n",
       "2     Urban  America/Los_Angeles            Chief Financial Officer       4.0   \n",
       "3  Suburban  America/Los_Angeles                          Solicitor       1.0   \n",
       "4  Suburban      America/Chicago                Medical illustrator       0.0   \n",
       "\n",
       "    Age                    Education Employment    Income    Marital  Gender  \\\n",
       "0  68.0              Master's Degree  Part Time  28561.99    Widowed    Male   \n",
       "1  27.0  Regular High School Diploma    Retired  21704.77    Married  Female   \n",
       "2  50.0  Regular High School Diploma    Student       NaN    Widowed  Female   \n",
       "3  48.0             Doctorate Degree    Retired  18925.23    Married    Male   \n",
       "4  83.0              Master's Degree    Student  40074.19  Separated    Male   \n",
       "\n",
       "  Churn  Outage_sec_perweek  Email  Contacts  Yearly_equip_failure Techie  \\\n",
       "0    No            6.972566     10         0                     1     No   \n",
       "1   Yes           12.014541     12         0                     1    Yes   \n",
       "2    No           10.245616      9         0                     1    Yes   \n",
       "3    No           15.206193     15         2                     0    Yes   \n",
       "4   Yes            8.960316     16         2                     1     No   \n",
       "\n",
       "         Contract Port_modem Tablet InternetService Phone Multiple  \\\n",
       "0        One year        Yes    Yes     Fiber Optic   Yes       No   \n",
       "1  Month-to-month         No    Yes     Fiber Optic   Yes      Yes   \n",
       "2        Two Year        Yes     No             DSL   Yes      Yes   \n",
       "3        Two Year         No     No             DSL   Yes       No   \n",
       "4  Month-to-month        Yes     No     Fiber Optic    No       No   \n",
       "\n",
       "  OnlineSecurity OnlineBackup DeviceProtection TechSupport StreamingTV  \\\n",
       "0            Yes          Yes               No          No          No   \n",
       "1            Yes           No               No          No         Yes   \n",
       "2             No           No               No          No          No   \n",
       "3            Yes           No               No          No         Yes   \n",
       "4             No           No               No         Yes         Yes   \n",
       "\n",
       "  StreamingMovies PaperlessBilling             PaymentMethod     Tenure  \\\n",
       "0             Yes              Yes   Credit Card (automatic)   6.795513   \n",
       "1             Yes              Yes  Bank Transfer(automatic)   1.156681   \n",
       "2             Yes              Yes   Credit Card (automatic)  15.754144   \n",
       "3              No              Yes              Mailed Check  17.087227   \n",
       "4              No               No              Mailed Check   1.670972   \n",
       "\n",
       "   MonthlyCharge  Bandwidth_GB_Year  item1  item2  item3  item4  item5  item6  \\\n",
       "0     171.449762         904.536110      5      5      5      3      4      4   \n",
       "1     242.948015         800.982766      3      4      3      3      4      3   \n",
       "2     159.440398        2054.706961      4      4      2      4      4      3   \n",
       "3     120.249493        2164.579412      4      4      4      2      5      4   \n",
       "4     150.761216         271.493436      4      4      4      3      4      4   \n",
       "\n",
       "   item7  item8  \n",
       "0      3      4  \n",
       "1      4      4  \n",
       "2      3      3  \n",
       "3      3      3  \n",
       "4      4      5  "
      ]
     },
     "execution_count": 15,
     "metadata": {},
     "output_type": "execute_result"
    }
   ],
   "source": [
    "# remove duplicate Unnnamed column\n",
    "\n",
    "churn_df=churn_df.drop(churn_df.columns[0],axis=1)\n",
    "churn_df.head()"
   ]
  },
  {
   "cell_type": "markdown",
   "id": "720c0a42-2287-43a2-b55c-31074b65d26c",
   "metadata": {},
   "source": [
    "## Rename Survey Response Importance Rating Column Names"
   ]
  },
  {
   "cell_type": "code",
   "execution_count": 16,
   "id": "e816c79a",
   "metadata": {},
   "outputs": [
    {
     "data": {
      "text/html": [
       "<div>\n",
       "<style scoped>\n",
       "    .dataframe tbody tr th:only-of-type {\n",
       "        vertical-align: middle;\n",
       "    }\n",
       "\n",
       "    .dataframe tbody tr th {\n",
       "        vertical-align: top;\n",
       "    }\n",
       "\n",
       "    .dataframe thead th {\n",
       "        text-align: right;\n",
       "    }\n",
       "</style>\n",
       "<table border=\"1\" class=\"dataframe\">\n",
       "  <thead>\n",
       "    <tr style=\"text-align: right;\">\n",
       "      <th></th>\n",
       "      <th>CaseOrder</th>\n",
       "      <th>Customer_id</th>\n",
       "      <th>Interaction</th>\n",
       "      <th>City</th>\n",
       "      <th>State</th>\n",
       "      <th>County</th>\n",
       "      <th>Zip</th>\n",
       "      <th>Lat</th>\n",
       "      <th>Lng</th>\n",
       "      <th>Population</th>\n",
       "      <th>Area</th>\n",
       "      <th>Timezone</th>\n",
       "      <th>Job</th>\n",
       "      <th>Children</th>\n",
       "      <th>Age</th>\n",
       "      <th>Education</th>\n",
       "      <th>Employment</th>\n",
       "      <th>Income</th>\n",
       "      <th>Marital</th>\n",
       "      <th>Gender</th>\n",
       "      <th>Churn</th>\n",
       "      <th>Outage_sec_perweek</th>\n",
       "      <th>Email</th>\n",
       "      <th>Contacts</th>\n",
       "      <th>Yearly_equip_failure</th>\n",
       "      <th>Techie</th>\n",
       "      <th>Contract</th>\n",
       "      <th>Port_modem</th>\n",
       "      <th>Tablet</th>\n",
       "      <th>InternetService</th>\n",
       "      <th>Phone</th>\n",
       "      <th>Multiple</th>\n",
       "      <th>OnlineSecurity</th>\n",
       "      <th>OnlineBackup</th>\n",
       "      <th>DeviceProtection</th>\n",
       "      <th>TechSupport</th>\n",
       "      <th>StreamingTV</th>\n",
       "      <th>StreamingMovies</th>\n",
       "      <th>PaperlessBilling</th>\n",
       "      <th>PaymentMethod</th>\n",
       "      <th>Tenure</th>\n",
       "      <th>MonthlyCharge</th>\n",
       "      <th>Bandwidth_GB_Year</th>\n",
       "      <th>timely_response</th>\n",
       "      <th>timely_fixes</th>\n",
       "      <th>timely_replacements</th>\n",
       "      <th>reliability</th>\n",
       "      <th>options</th>\n",
       "      <th>repectful_response</th>\n",
       "      <th>courteous_exchange</th>\n",
       "      <th>evidence_of_active_listening</th>\n",
       "    </tr>\n",
       "  </thead>\n",
       "  <tbody>\n",
       "    <tr>\n",
       "      <th>0</th>\n",
       "      <td>1</td>\n",
       "      <td>K409198</td>\n",
       "      <td>aa90260b-4141-4a24-8e36-b04ce1f4f77b</td>\n",
       "      <td>Point Baker</td>\n",
       "      <td>AK</td>\n",
       "      <td>Prince of Wales-Hyder</td>\n",
       "      <td>99927</td>\n",
       "      <td>56.25100</td>\n",
       "      <td>-133.37571</td>\n",
       "      <td>38</td>\n",
       "      <td>Urban</td>\n",
       "      <td>America/Sitka</td>\n",
       "      <td>Environmental health practitioner</td>\n",
       "      <td>NaN</td>\n",
       "      <td>68.0</td>\n",
       "      <td>Master's Degree</td>\n",
       "      <td>Part Time</td>\n",
       "      <td>28561.99</td>\n",
       "      <td>Widowed</td>\n",
       "      <td>Male</td>\n",
       "      <td>No</td>\n",
       "      <td>6.972566</td>\n",
       "      <td>10</td>\n",
       "      <td>0</td>\n",
       "      <td>1</td>\n",
       "      <td>No</td>\n",
       "      <td>One year</td>\n",
       "      <td>Yes</td>\n",
       "      <td>Yes</td>\n",
       "      <td>Fiber Optic</td>\n",
       "      <td>Yes</td>\n",
       "      <td>No</td>\n",
       "      <td>Yes</td>\n",
       "      <td>Yes</td>\n",
       "      <td>No</td>\n",
       "      <td>No</td>\n",
       "      <td>No</td>\n",
       "      <td>Yes</td>\n",
       "      <td>Yes</td>\n",
       "      <td>Credit Card (automatic)</td>\n",
       "      <td>6.795513</td>\n",
       "      <td>171.449762</td>\n",
       "      <td>904.536110</td>\n",
       "      <td>5</td>\n",
       "      <td>5</td>\n",
       "      <td>5</td>\n",
       "      <td>3</td>\n",
       "      <td>4</td>\n",
       "      <td>4</td>\n",
       "      <td>3</td>\n",
       "      <td>4</td>\n",
       "    </tr>\n",
       "    <tr>\n",
       "      <th>1</th>\n",
       "      <td>2</td>\n",
       "      <td>S120509</td>\n",
       "      <td>fb76459f-c047-4a9d-8af9-e0f7d4ac2524</td>\n",
       "      <td>West Branch</td>\n",
       "      <td>MI</td>\n",
       "      <td>Ogemaw</td>\n",
       "      <td>48661</td>\n",
       "      <td>44.32893</td>\n",
       "      <td>-84.24080</td>\n",
       "      <td>10446</td>\n",
       "      <td>Urban</td>\n",
       "      <td>America/Detroit</td>\n",
       "      <td>Programmer, multimedia</td>\n",
       "      <td>1.0</td>\n",
       "      <td>27.0</td>\n",
       "      <td>Regular High School Diploma</td>\n",
       "      <td>Retired</td>\n",
       "      <td>21704.77</td>\n",
       "      <td>Married</td>\n",
       "      <td>Female</td>\n",
       "      <td>Yes</td>\n",
       "      <td>12.014541</td>\n",
       "      <td>12</td>\n",
       "      <td>0</td>\n",
       "      <td>1</td>\n",
       "      <td>Yes</td>\n",
       "      <td>Month-to-month</td>\n",
       "      <td>No</td>\n",
       "      <td>Yes</td>\n",
       "      <td>Fiber Optic</td>\n",
       "      <td>Yes</td>\n",
       "      <td>Yes</td>\n",
       "      <td>Yes</td>\n",
       "      <td>No</td>\n",
       "      <td>No</td>\n",
       "      <td>No</td>\n",
       "      <td>Yes</td>\n",
       "      <td>Yes</td>\n",
       "      <td>Yes</td>\n",
       "      <td>Bank Transfer(automatic)</td>\n",
       "      <td>1.156681</td>\n",
       "      <td>242.948015</td>\n",
       "      <td>800.982766</td>\n",
       "      <td>3</td>\n",
       "      <td>4</td>\n",
       "      <td>3</td>\n",
       "      <td>3</td>\n",
       "      <td>4</td>\n",
       "      <td>3</td>\n",
       "      <td>4</td>\n",
       "      <td>4</td>\n",
       "    </tr>\n",
       "    <tr>\n",
       "      <th>2</th>\n",
       "      <td>3</td>\n",
       "      <td>K191035</td>\n",
       "      <td>344d114c-3736-4be5-98f7-c72c281e2d35</td>\n",
       "      <td>Yamhill</td>\n",
       "      <td>OR</td>\n",
       "      <td>Yamhill</td>\n",
       "      <td>97148</td>\n",
       "      <td>45.35589</td>\n",
       "      <td>-123.24657</td>\n",
       "      <td>3735</td>\n",
       "      <td>Urban</td>\n",
       "      <td>America/Los_Angeles</td>\n",
       "      <td>Chief Financial Officer</td>\n",
       "      <td>4.0</td>\n",
       "      <td>50.0</td>\n",
       "      <td>Regular High School Diploma</td>\n",
       "      <td>Student</td>\n",
       "      <td>NaN</td>\n",
       "      <td>Widowed</td>\n",
       "      <td>Female</td>\n",
       "      <td>No</td>\n",
       "      <td>10.245616</td>\n",
       "      <td>9</td>\n",
       "      <td>0</td>\n",
       "      <td>1</td>\n",
       "      <td>Yes</td>\n",
       "      <td>Two Year</td>\n",
       "      <td>Yes</td>\n",
       "      <td>No</td>\n",
       "      <td>DSL</td>\n",
       "      <td>Yes</td>\n",
       "      <td>Yes</td>\n",
       "      <td>No</td>\n",
       "      <td>No</td>\n",
       "      <td>No</td>\n",
       "      <td>No</td>\n",
       "      <td>No</td>\n",
       "      <td>Yes</td>\n",
       "      <td>Yes</td>\n",
       "      <td>Credit Card (automatic)</td>\n",
       "      <td>15.754144</td>\n",
       "      <td>159.440398</td>\n",
       "      <td>2054.706961</td>\n",
       "      <td>4</td>\n",
       "      <td>4</td>\n",
       "      <td>2</td>\n",
       "      <td>4</td>\n",
       "      <td>4</td>\n",
       "      <td>3</td>\n",
       "      <td>3</td>\n",
       "      <td>3</td>\n",
       "    </tr>\n",
       "    <tr>\n",
       "      <th>3</th>\n",
       "      <td>4</td>\n",
       "      <td>D90850</td>\n",
       "      <td>abfa2b40-2d43-4994-b15a-989b8c79e311</td>\n",
       "      <td>Del Mar</td>\n",
       "      <td>CA</td>\n",
       "      <td>San Diego</td>\n",
       "      <td>92014</td>\n",
       "      <td>32.96687</td>\n",
       "      <td>-117.24798</td>\n",
       "      <td>13863</td>\n",
       "      <td>Suburban</td>\n",
       "      <td>America/Los_Angeles</td>\n",
       "      <td>Solicitor</td>\n",
       "      <td>1.0</td>\n",
       "      <td>48.0</td>\n",
       "      <td>Doctorate Degree</td>\n",
       "      <td>Retired</td>\n",
       "      <td>18925.23</td>\n",
       "      <td>Married</td>\n",
       "      <td>Male</td>\n",
       "      <td>No</td>\n",
       "      <td>15.206193</td>\n",
       "      <td>15</td>\n",
       "      <td>2</td>\n",
       "      <td>0</td>\n",
       "      <td>Yes</td>\n",
       "      <td>Two Year</td>\n",
       "      <td>No</td>\n",
       "      <td>No</td>\n",
       "      <td>DSL</td>\n",
       "      <td>Yes</td>\n",
       "      <td>No</td>\n",
       "      <td>Yes</td>\n",
       "      <td>No</td>\n",
       "      <td>No</td>\n",
       "      <td>No</td>\n",
       "      <td>Yes</td>\n",
       "      <td>No</td>\n",
       "      <td>Yes</td>\n",
       "      <td>Mailed Check</td>\n",
       "      <td>17.087227</td>\n",
       "      <td>120.249493</td>\n",
       "      <td>2164.579412</td>\n",
       "      <td>4</td>\n",
       "      <td>4</td>\n",
       "      <td>4</td>\n",
       "      <td>2</td>\n",
       "      <td>5</td>\n",
       "      <td>4</td>\n",
       "      <td>3</td>\n",
       "      <td>3</td>\n",
       "    </tr>\n",
       "    <tr>\n",
       "      <th>4</th>\n",
       "      <td>5</td>\n",
       "      <td>K662701</td>\n",
       "      <td>68a861fd-0d20-4e51-a587-8a90407ee574</td>\n",
       "      <td>Needville</td>\n",
       "      <td>TX</td>\n",
       "      <td>Fort Bend</td>\n",
       "      <td>77461</td>\n",
       "      <td>29.38012</td>\n",
       "      <td>-95.80673</td>\n",
       "      <td>11352</td>\n",
       "      <td>Suburban</td>\n",
       "      <td>America/Chicago</td>\n",
       "      <td>Medical illustrator</td>\n",
       "      <td>0.0</td>\n",
       "      <td>83.0</td>\n",
       "      <td>Master's Degree</td>\n",
       "      <td>Student</td>\n",
       "      <td>40074.19</td>\n",
       "      <td>Separated</td>\n",
       "      <td>Male</td>\n",
       "      <td>Yes</td>\n",
       "      <td>8.960316</td>\n",
       "      <td>16</td>\n",
       "      <td>2</td>\n",
       "      <td>1</td>\n",
       "      <td>No</td>\n",
       "      <td>Month-to-month</td>\n",
       "      <td>Yes</td>\n",
       "      <td>No</td>\n",
       "      <td>Fiber Optic</td>\n",
       "      <td>No</td>\n",
       "      <td>No</td>\n",
       "      <td>No</td>\n",
       "      <td>No</td>\n",
       "      <td>No</td>\n",
       "      <td>Yes</td>\n",
       "      <td>Yes</td>\n",
       "      <td>No</td>\n",
       "      <td>No</td>\n",
       "      <td>Mailed Check</td>\n",
       "      <td>1.670972</td>\n",
       "      <td>150.761216</td>\n",
       "      <td>271.493436</td>\n",
       "      <td>4</td>\n",
       "      <td>4</td>\n",
       "      <td>4</td>\n",
       "      <td>3</td>\n",
       "      <td>4</td>\n",
       "      <td>4</td>\n",
       "      <td>4</td>\n",
       "      <td>5</td>\n",
       "    </tr>\n",
       "  </tbody>\n",
       "</table>\n",
       "</div>"
      ],
      "text/plain": [
       "   CaseOrder Customer_id                           Interaction         City  \\\n",
       "0          1     K409198  aa90260b-4141-4a24-8e36-b04ce1f4f77b  Point Baker   \n",
       "1          2     S120509  fb76459f-c047-4a9d-8af9-e0f7d4ac2524  West Branch   \n",
       "2          3     K191035  344d114c-3736-4be5-98f7-c72c281e2d35      Yamhill   \n",
       "3          4      D90850  abfa2b40-2d43-4994-b15a-989b8c79e311      Del Mar   \n",
       "4          5     K662701  68a861fd-0d20-4e51-a587-8a90407ee574    Needville   \n",
       "\n",
       "  State                 County    Zip       Lat        Lng  Population  \\\n",
       "0    AK  Prince of Wales-Hyder  99927  56.25100 -133.37571          38   \n",
       "1    MI                 Ogemaw  48661  44.32893  -84.24080       10446   \n",
       "2    OR                Yamhill  97148  45.35589 -123.24657        3735   \n",
       "3    CA              San Diego  92014  32.96687 -117.24798       13863   \n",
       "4    TX              Fort Bend  77461  29.38012  -95.80673       11352   \n",
       "\n",
       "       Area             Timezone                                Job  Children  \\\n",
       "0     Urban        America/Sitka  Environmental health practitioner       NaN   \n",
       "1     Urban      America/Detroit             Programmer, multimedia       1.0   \n",
       "2     Urban  America/Los_Angeles            Chief Financial Officer       4.0   \n",
       "3  Suburban  America/Los_Angeles                          Solicitor       1.0   \n",
       "4  Suburban      America/Chicago                Medical illustrator       0.0   \n",
       "\n",
       "    Age                    Education Employment    Income    Marital  Gender  \\\n",
       "0  68.0              Master's Degree  Part Time  28561.99    Widowed    Male   \n",
       "1  27.0  Regular High School Diploma    Retired  21704.77    Married  Female   \n",
       "2  50.0  Regular High School Diploma    Student       NaN    Widowed  Female   \n",
       "3  48.0             Doctorate Degree    Retired  18925.23    Married    Male   \n",
       "4  83.0              Master's Degree    Student  40074.19  Separated    Male   \n",
       "\n",
       "  Churn  Outage_sec_perweek  Email  Contacts  Yearly_equip_failure Techie  \\\n",
       "0    No            6.972566     10         0                     1     No   \n",
       "1   Yes           12.014541     12         0                     1    Yes   \n",
       "2    No           10.245616      9         0                     1    Yes   \n",
       "3    No           15.206193     15         2                     0    Yes   \n",
       "4   Yes            8.960316     16         2                     1     No   \n",
       "\n",
       "         Contract Port_modem Tablet InternetService Phone Multiple  \\\n",
       "0        One year        Yes    Yes     Fiber Optic   Yes       No   \n",
       "1  Month-to-month         No    Yes     Fiber Optic   Yes      Yes   \n",
       "2        Two Year        Yes     No             DSL   Yes      Yes   \n",
       "3        Two Year         No     No             DSL   Yes       No   \n",
       "4  Month-to-month        Yes     No     Fiber Optic    No       No   \n",
       "\n",
       "  OnlineSecurity OnlineBackup DeviceProtection TechSupport StreamingTV  \\\n",
       "0            Yes          Yes               No          No          No   \n",
       "1            Yes           No               No          No         Yes   \n",
       "2             No           No               No          No          No   \n",
       "3            Yes           No               No          No         Yes   \n",
       "4             No           No               No         Yes         Yes   \n",
       "\n",
       "  StreamingMovies PaperlessBilling             PaymentMethod     Tenure  \\\n",
       "0             Yes              Yes   Credit Card (automatic)   6.795513   \n",
       "1             Yes              Yes  Bank Transfer(automatic)   1.156681   \n",
       "2             Yes              Yes   Credit Card (automatic)  15.754144   \n",
       "3              No              Yes              Mailed Check  17.087227   \n",
       "4              No               No              Mailed Check   1.670972   \n",
       "\n",
       "   MonthlyCharge  Bandwidth_GB_Year  timely_response  timely_fixes  \\\n",
       "0     171.449762         904.536110                5             5   \n",
       "1     242.948015         800.982766                3             4   \n",
       "2     159.440398        2054.706961                4             4   \n",
       "3     120.249493        2164.579412                4             4   \n",
       "4     150.761216         271.493436                4             4   \n",
       "\n",
       "   timely_replacements  reliability  options  repectful_response  \\\n",
       "0                    5            3        4                   4   \n",
       "1                    3            3        4                   3   \n",
       "2                    2            4        4                   3   \n",
       "3                    4            2        5                   4   \n",
       "4                    4            3        4                   4   \n",
       "\n",
       "   courteous_exchange  evidence_of_active_listening  \n",
       "0                   3                             4  \n",
       "1                   4                             4  \n",
       "2                   3                             3  \n",
       "3                   3                             3  \n",
       "4                   4                             5  "
      ]
     },
     "execution_count": 16,
     "metadata": {},
     "output_type": "execute_result"
    }
   ],
   "source": [
    "churn_df.rename(columns = {'item1': 'timely_response', 'item2': 'timely_fixes' , 'item3':'timely_replacements' ,\n",
    "                           'item4': 'reliability' , 'item5': 'options' , 'item6': 'repectful_response' ,\n",
    "                           'item7': 'courteous_exchange' , 'item8': 'evidence_of_active_listening'}, inplace=True)\n",
    "churn_df.head()"
   ]
  },
  {
   "cell_type": "code",
   "execution_count": 17,
   "id": "f552fea9-b394-46b3-84bc-a12556cc60ee",
   "metadata": {},
   "outputs": [
    {
     "data": {
      "text/plain": [
       "(10000, 51)"
      ]
     },
     "execution_count": 17,
     "metadata": {},
     "output_type": "execute_result"
    }
   ],
   "source": [
    "churn_df.shape"
   ]
  },
  {
   "cell_type": "markdown",
   "id": "00bdda59-3bb7-43cd-8eee-2ffcb3192ad9",
   "metadata": {},
   "source": [
    "## Check for Nulls"
   ]
  },
  {
   "cell_type": "code",
   "execution_count": 18,
   "id": "b56c6966-487e-4205-9a6f-26b8c93b1283",
   "metadata": {},
   "outputs": [
    {
     "data": {
      "text/plain": [
       "CaseOrder                          0\n",
       "Customer_id                        0\n",
       "Interaction                        0\n",
       "City                               0\n",
       "State                              0\n",
       "County                             0\n",
       "Zip                                0\n",
       "Lat                                0\n",
       "Lng                                0\n",
       "Population                         0\n",
       "Area                               0\n",
       "Timezone                           0\n",
       "Job                                0\n",
       "Children                        2495\n",
       "Age                             2475\n",
       "Education                          0\n",
       "Employment                         0\n",
       "Income                          2490\n",
       "Marital                            0\n",
       "Gender                             0\n",
       "Churn                              0\n",
       "Outage_sec_perweek                 0\n",
       "Email                              0\n",
       "Contacts                           0\n",
       "Yearly_equip_failure               0\n",
       "Techie                          2477\n",
       "Contract                           0\n",
       "Port_modem                         0\n",
       "Tablet                             0\n",
       "InternetService                    0\n",
       "Phone                           1026\n",
       "Multiple                           0\n",
       "OnlineSecurity                     0\n",
       "OnlineBackup                       0\n",
       "DeviceProtection                   0\n",
       "TechSupport                      991\n",
       "StreamingTV                        0\n",
       "StreamingMovies                    0\n",
       "PaperlessBilling                   0\n",
       "PaymentMethod                      0\n",
       "Tenure                           931\n",
       "MonthlyCharge                      0\n",
       "Bandwidth_GB_Year               1021\n",
       "timely_response                    0\n",
       "timely_fixes                       0\n",
       "timely_replacements                0\n",
       "reliability                        0\n",
       "options                            0\n",
       "repectful_response                 0\n",
       "courteous_exchange                 0\n",
       "evidence_of_active_listening       0\n",
       "dtype: int64"
      ]
     },
     "execution_count": 18,
     "metadata": {},
     "output_type": "execute_result"
    }
   ],
   "source": [
    "# how many nulls in each column?\n",
    "churn_df.isnull().sum()"
   ]
  },
  {
   "cell_type": "markdown",
   "id": "7dd385a7-0612-4047-afcb-63b2a9dc22f8",
   "metadata": {},
   "source": [
    "## Check for Duplicates"
   ]
  },
  {
   "cell_type": "code",
   "execution_count": 19,
   "id": "b902a0d2-ea03-4919-a88a-3266777863ea",
   "metadata": {
    "tags": []
   },
   "outputs": [
    {
     "data": {
      "text/plain": [
       "0       False\n",
       "1       False\n",
       "2       False\n",
       "3       False\n",
       "4       False\n",
       "        ...  \n",
       "9995    False\n",
       "9996    False\n",
       "9997    False\n",
       "9998    False\n",
       "9999    False\n",
       "Length: 10000, dtype: bool"
      ]
     },
     "execution_count": 19,
     "metadata": {},
     "output_type": "execute_result"
    }
   ],
   "source": [
    "churn_df.duplicated()"
   ]
  },
  {
   "cell_type": "code",
   "execution_count": 20,
   "id": "73ad79e1-90aa-49dc-a5bd-52adfeb83f63",
   "metadata": {
    "tags": []
   },
   "outputs": [
    {
     "name": "stdout",
     "output_type": "stream",
     "text": [
      "False    10000\n",
      "dtype: int64\n"
     ]
    }
   ],
   "source": [
    "print(churn_df.duplicated().value_counts())"
   ]
  },
  {
   "cell_type": "markdown",
   "id": "4e7ca12f-a12a-4fb0-961f-6fd083bf2445",
   "metadata": {},
   "source": [
    "## Check for duplicate rows"
   ]
  },
  {
   "cell_type": "code",
   "execution_count": 21,
   "id": "97e8d1bf-9754-414b-a2f9-a3759c4f0cc1",
   "metadata": {
    "tags": []
   },
   "outputs": [
    {
     "name": "stdout",
     "output_type": "stream",
     "text": [
      "Empty DataFrame\n",
      "Columns: [CaseOrder, Customer_id, Interaction, City, State, County, Zip, Lat, Lng, Population, Area, Timezone, Job, Children, Age, Education, Employment, Income, Marital, Gender, Churn, Outage_sec_perweek, Email, Contacts, Yearly_equip_failure, Techie, Contract, Port_modem, Tablet, InternetService, Phone, Multiple, OnlineSecurity, OnlineBackup, DeviceProtection, TechSupport, StreamingTV, StreamingMovies, PaperlessBilling, PaymentMethod, Tenure, MonthlyCharge, Bandwidth_GB_Year, timely_response, timely_fixes, timely_replacements, reliability, options, repectful_response, courteous_exchange, evidence_of_active_listening]\n",
      "Index: []\n"
     ]
    }
   ],
   "source": [
    "duplicate_rows = churn_df.loc[churn_df.duplicated()]\n",
    "print(duplicate_rows)"
   ]
  },
  {
   "cell_type": "markdown",
   "id": "b24db5bf-0342-4cd3-a8bb-1d80e41d1338",
   "metadata": {},
   "source": [
    "## Fix Leading Zeros on Zip Code column"
   ]
  },
  {
   "cell_type": "code",
   "execution_count": 22,
   "id": "64c79732-57fc-4171-8ff7-fe39b6d599fa",
   "metadata": {
    "tags": []
   },
   "outputs": [
    {
     "name": "stdout",
     "output_type": "stream",
     "text": [
      "0       99927\n",
      "1       48661\n",
      "2       97148\n",
      "3       92014\n",
      "4       77461\n",
      "        ...  \n",
      "9995    05758\n",
      "9996    37042\n",
      "9997    79061\n",
      "9998    30117\n",
      "9999    30523\n",
      "Name: fixed_zip, Length: 10000, dtype: object\n"
     ]
    }
   ],
   "source": [
    "def fix_zip(series):\n",
    "      return series.astype(str).str.extract('(\\d+)', expand=False).str.zfill(5)\n",
    "churn_df['fixed_zip'] = fix_zip(churn_df['Zip'])\n",
    "print (churn_df['fixed_zip'])"
   ]
  },
  {
   "cell_type": "code",
   "execution_count": 23,
   "id": "87b28c41-a4ef-4da7-bb48-9d254b02a6dd",
   "metadata": {
    "tags": []
   },
   "outputs": [
    {
     "data": {
      "text/plain": [
       "CaseOrder                         int64\n",
       "Customer_id                      object\n",
       "Interaction                      object\n",
       "City                             object\n",
       "State                            object\n",
       "County                           object\n",
       "Zip                               int64\n",
       "Lat                             float64\n",
       "Lng                             float64\n",
       "Population                        int64\n",
       "Area                             object\n",
       "Timezone                         object\n",
       "Job                              object\n",
       "Children                        float64\n",
       "Age                             float64\n",
       "Education                        object\n",
       "Employment                       object\n",
       "Income                          float64\n",
       "Marital                          object\n",
       "Gender                           object\n",
       "Churn                            object\n",
       "Outage_sec_perweek              float64\n",
       "Email                             int64\n",
       "Contacts                          int64\n",
       "Yearly_equip_failure              int64\n",
       "Techie                           object\n",
       "Contract                         object\n",
       "Port_modem                       object\n",
       "Tablet                           object\n",
       "InternetService                  object\n",
       "Phone                            object\n",
       "Multiple                         object\n",
       "OnlineSecurity                   object\n",
       "OnlineBackup                     object\n",
       "DeviceProtection                 object\n",
       "TechSupport                      object\n",
       "StreamingTV                      object\n",
       "StreamingMovies                  object\n",
       "PaperlessBilling                 object\n",
       "PaymentMethod                    object\n",
       "Tenure                          float64\n",
       "MonthlyCharge                   float64\n",
       "Bandwidth_GB_Year               float64\n",
       "timely_response                   int64\n",
       "timely_fixes                      int64\n",
       "timely_replacements               int64\n",
       "reliability                       int64\n",
       "options                           int64\n",
       "repectful_response                int64\n",
       "courteous_exchange                int64\n",
       "evidence_of_active_listening      int64\n",
       "fixed_zip                        object\n",
       "dtype: object"
      ]
     },
     "execution_count": 23,
     "metadata": {},
     "output_type": "execute_result"
    }
   ],
   "source": [
    "churn_df.dtypes"
   ]
  },
  {
   "cell_type": "code",
   "execution_count": 24,
   "id": "afa781b5-d23d-4726-8649-979ca5854b9f",
   "metadata": {
    "tags": []
   },
   "outputs": [
    {
     "name": "stdout",
     "output_type": "stream",
     "text": [
      "Index(['CaseOrder', 'Customer_id', 'Interaction', 'City', 'State', 'County',\n",
      "       'Zip', 'Lat', 'Lng', 'Population', 'Area', 'Timezone', 'Job',\n",
      "       'Children', 'Age', 'Education', 'Employment', 'Income', 'Marital',\n",
      "       'Gender', 'Churn', 'Outage_sec_perweek', 'Email', 'Contacts',\n",
      "       'Yearly_equip_failure', 'Techie', 'Contract', 'Port_modem', 'Tablet',\n",
      "       'InternetService', 'Phone', 'Multiple', 'OnlineSecurity',\n",
      "       'OnlineBackup', 'DeviceProtection', 'TechSupport', 'StreamingTV',\n",
      "       'StreamingMovies', 'PaperlessBilling', 'PaymentMethod', 'Tenure',\n",
      "       'MonthlyCharge', 'Bandwidth_GB_Year', 'timely_response', 'timely_fixes',\n",
      "       'timely_replacements', 'reliability', 'options', 'repectful_response',\n",
      "       'courteous_exchange', 'evidence_of_active_listening', 'fixed_zip'],\n",
      "      dtype='object')\n"
     ]
    },
    {
     "data": {
      "text/plain": [
       "(10000, 52)"
      ]
     },
     "execution_count": 24,
     "metadata": {},
     "output_type": "execute_result"
    }
   ],
   "source": [
    "churn_columns = churn_df.columns\n",
    "print(churn_columns)\n",
    "churn_df.shape"
   ]
  },
  {
   "cell_type": "markdown",
   "id": "11e09c59-ef98-46c4-b203-f0bf1050a4e1",
   "metadata": {},
   "source": [
    "## Reorder Columns with Fixed Zip next to original Zip"
   ]
  },
  {
   "cell_type": "code",
   "execution_count": 25,
   "id": "44467f64-e87c-4995-9559-45d890c38828",
   "metadata": {
    "tags": []
   },
   "outputs": [
    {
     "data": {
      "text/plain": [
       "Index(['CaseOrder', 'Customer_id', 'Interaction', 'City', 'State', 'County',\n",
       "       'Zip', 'fixed_zip', 'Lat', 'Lng', 'Population', 'Area', 'Timezone',\n",
       "       'Job', 'Children', 'Age', 'Education', 'Employment', 'Income',\n",
       "       'Marital', 'Gender', 'Churn', 'Outage_sec_perweek', 'Email', 'Contacts',\n",
       "       'Yearly_equip_failure', 'Techie', 'Contract', 'Port_modem', 'Tablet',\n",
       "       'InternetService', 'Phone', 'Multiple', 'OnlineSecurity',\n",
       "       'OnlineBackup', 'DeviceProtection', 'TechSupport', 'StreamingTV',\n",
       "       'StreamingMovies', 'PaperlessBilling', 'PaymentMethod', 'Tenure',\n",
       "       'MonthlyCharge', 'Bandwidth_GB_Year', 'timely_response', 'timely_fixes',\n",
       "       'timely_replacements', 'reliability', 'options', 'repectful_response',\n",
       "       'courteous_exchange', 'evidence_of_active_listening'],\n",
       "      dtype='object')"
      ]
     },
     "execution_count": 25,
     "metadata": {},
     "output_type": "execute_result"
    }
   ],
   "source": [
    "new_columns = ['CaseOrder', 'Customer_id', 'Interaction', 'City', 'State', 'County',\n",
    "       'Zip','fixed_zip', 'Lat', 'Lng', 'Population', 'Area', 'Timezone', 'Job',\n",
    "       'Children', 'Age', 'Education', 'Employment', 'Income', 'Marital',\n",
    "       'Gender', 'Churn', 'Outage_sec_perweek', 'Email', 'Contacts',\n",
    "       'Yearly_equip_failure', 'Techie', 'Contract', 'Port_modem', 'Tablet',\n",
    "       'InternetService', 'Phone', 'Multiple', 'OnlineSecurity',\n",
    "       'OnlineBackup', 'DeviceProtection', 'TechSupport', 'StreamingTV',\n",
    "       'StreamingMovies', 'PaperlessBilling', 'PaymentMethod', 'Tenure',\n",
    "       'MonthlyCharge', 'Bandwidth_GB_Year', 'timely_response', 'timely_fixes',\n",
    "       'timely_replacements', 'reliability', 'options', 'repectful_response',\n",
    "       'courteous_exchange', 'evidence_of_active_listening']\n",
    "churn_df=churn_df.reindex(columns=new_columns)\n",
    "churn_df.columns"
   ]
  },
  {
   "cell_type": "markdown",
   "id": "ba2b183f-5949-4754-a370-1b964fc89fd0",
   "metadata": {},
   "source": [
    "## List of Variables"
   ]
  },
  {
   "cell_type": "code",
   "execution_count": null,
   "id": "f39181e5-a1d2-41ae-8d22-e9b24472aea7",
   "metadata": {},
   "outputs": [],
   "source": []
  },
  {
   "cell_type": "code",
   "execution_count": null,
   "id": "5a248707-087a-4207-b17b-d7e9814c7c72",
   "metadata": {},
   "outputs": [],
   "source": []
  },
  {
   "cell_type": "code",
   "execution_count": 26,
   "id": "15a92ad6-5a53-4675-9ab4-a1fe12699a21",
   "metadata": {
    "tags": []
   },
   "outputs": [
    {
     "name": "stdout",
     "output_type": "stream",
     "text": [
      "╒══════════════════════╤════════════════╤════════════════════════════╕\n",
      "│ Variable Name        │ python_dtype   │ quantitative/qualitative   │\n",
      "╞══════════════════════╪════════════════╪════════════════════════════╡\n",
      "│ CaseOrder            │ int64          │ qualitative                │\n",
      "├──────────────────────┼────────────────┼────────────────────────────┤\n",
      "│ Customer_id          │ object         │ qualitative                │\n",
      "├──────────────────────┼────────────────┼────────────────────────────┤\n",
      "│ Interaction          │ object         │ qualitative                │\n",
      "├──────────────────────┼────────────────┼────────────────────────────┤\n",
      "│ City                 │ object         │ qualitative                │\n",
      "├──────────────────────┼────────────────┼────────────────────────────┤\n",
      "│ State                │ object         │ qualitative                │\n",
      "├──────────────────────┼────────────────┼────────────────────────────┤\n",
      "│ County               │ object         │ qualitative                │\n",
      "├──────────────────────┼────────────────┼────────────────────────────┤\n",
      "│ Zip                  │ int64          │ qualitative                │\n",
      "├──────────────────────┼────────────────┼────────────────────────────┤\n",
      "│ fixed_zip            │ object         │ qualitative                │\n",
      "├──────────────────────┼────────────────┼────────────────────────────┤\n",
      "│ Lat                  │ float64        │ qualitative                │\n",
      "├──────────────────────┼────────────────┼────────────────────────────┤\n",
      "│ Lng                  │ float64        │ qualitative                │\n",
      "├──────────────────────┼────────────────┼────────────────────────────┤\n",
      "│ Population           │ int64          │ qualitative                │\n",
      "├──────────────────────┼────────────────┼────────────────────────────┤\n",
      "│ Area                 │ object         │ qualitative                │\n",
      "├──────────────────────┼────────────────┼────────────────────────────┤\n",
      "│ Timezone             │ object         │ qualitative                │\n",
      "├──────────────────────┼────────────────┼────────────────────────────┤\n",
      "│ Job                  │ object         │ qualitative                │\n",
      "├──────────────────────┼────────────────┼────────────────────────────┤\n",
      "│ Children             │ float64        │ quantitative               │\n",
      "├──────────────────────┼────────────────┼────────────────────────────┤\n",
      "│ Age                  │ float64        │ quantitative               │\n",
      "├──────────────────────┼────────────────┼────────────────────────────┤\n",
      "│ Education            │ object         │ qualitative                │\n",
      "├──────────────────────┼────────────────┼────────────────────────────┤\n",
      "│ Employment           │ object         │ qualitative                │\n",
      "├──────────────────────┼────────────────┼────────────────────────────┤\n",
      "│ Income               │ float64        │ quantitative               │\n",
      "├──────────────────────┼────────────────┼────────────────────────────┤\n",
      "│ Marital              │ object         │ qualitative                │\n",
      "├──────────────────────┼────────────────┼────────────────────────────┤\n",
      "│ Gender               │ object         │ qualitative                │\n",
      "├──────────────────────┼────────────────┼────────────────────────────┤\n",
      "│ Churn                │ object         │ qualitative                │\n",
      "├──────────────────────┼────────────────┼────────────────────────────┤\n",
      "│ Outage_sec_perweek   │ float64        │ quantitative               │\n",
      "├──────────────────────┼────────────────┼────────────────────────────┤\n",
      "│ Email                │ int64          │ quantitative               │\n",
      "├──────────────────────┼────────────────┼────────────────────────────┤\n",
      "│ Contacts             │ int64          │ quantitative               │\n",
      "├──────────────────────┼────────────────┼────────────────────────────┤\n",
      "│ Yearly_equip_failure │ int64          │ quantitative               │\n",
      "├──────────────────────┼────────────────┼────────────────────────────┤\n",
      "│ Techie               │ object         │ qualitative                │\n",
      "├──────────────────────┼────────────────┼────────────────────────────┤\n",
      "│ Contract             │ object         │ qualitative                │\n",
      "├──────────────────────┼────────────────┼────────────────────────────┤\n",
      "│ Port_modem           │ object         │ qualitative                │\n",
      "╘══════════════════════╧════════════════╧════════════════════════════╛\n"
     ]
    }
   ],
   "source": [
    "table = [['Variable Name', 'python_dtype', 'quantitative/qualitative'],         \n",
    "         ['CaseOrder', 'int64', 'qualitative'], ['Customer_id', 'object', 'qualitative'],['Interaction', 'object', 'qualitative'],['City', 'object', 'qualitative'],['State', 'object', 'qualitative'],\n",
    "         ['County', 'object', 'qualitative'], ['Zip', 'int64', 'qualitative'],['fixed_zip', 'object', 'qualitative'],['Lat', 'float64', 'qualitative'],['Lng', 'float64',  'qualitative'],\n",
    "         ['Population', 'int64', 'qualitative'], ['Area', 'object', 'qualitative'],['Timezone',' object', 'qualitative'],['Job', 'object',' qualitative'],['Children', 'float64', 'quantitative'],\n",
    "         ['Age', 'float64', 'quantitative'], ['Education', 'object', 'qualitative'],['Employment', 'object', 'qualitative'],['Income', 'float64', 'quantitative'],['Marital', 'object', 'qualitative'],\n",
    "         ['Gender', 'object', 'qualitative'], ['Churn', 'object', 'qualitative'], ['Outage_sec_perweek', 'float64', 'quantitative'],['Email', 'int64',' quantitative'],['Contacts', 'int64', 'quantitative'],\n",
    "         ['Yearly_equip_failure', 'int64', 'quantitative'], ['Techie', 'object', 'qualitative'], ['Contract', 'object', 'qualitative'], ['Port_modem', 'object', 'qualitative']]         \n",
    "print(tabulate(table,headers='firstrow',tablefmt='fancy_grid'))"
   ]
  },
  {
   "cell_type": "code",
   "execution_count": 27,
   "id": "b01ece72-feb7-4bab-b83f-b00a271f25ca",
   "metadata": {
    "tags": []
   },
   "outputs": [
    {
     "name": "stdout",
     "output_type": "stream",
     "text": [
      "╒══════════════════════════════╤════════════════╤════════════════════════════╕\n",
      "│ Variable Name                │ python_dtype   │ quantitative/qualitative   │\n",
      "╞══════════════════════════════╪════════════════╪════════════════════════════╡\n",
      "│ Tablet                       │ object         │ qualitative                │\n",
      "├──────────────────────────────┼────────────────┼────────────────────────────┤\n",
      "│ InternetService              │ object         │ qualitative                │\n",
      "├──────────────────────────────┼────────────────┼────────────────────────────┤\n",
      "│ Phone                        │ object         │ qualitative                │\n",
      "├──────────────────────────────┼────────────────┼────────────────────────────┤\n",
      "│ Multiple                     │ object         │ qualitative                │\n",
      "├──────────────────────────────┼────────────────┼────────────────────────────┤\n",
      "│ OnlineSecurity               │ object         │ qualitative                │\n",
      "├──────────────────────────────┼────────────────┼────────────────────────────┤\n",
      "│ OnlineBackup                 │ object         │ qualitative                │\n",
      "├──────────────────────────────┼────────────────┼────────────────────────────┤\n",
      "│ DeviceProtection             │ object         │ qualitative                │\n",
      "├──────────────────────────────┼────────────────┼────────────────────────────┤\n",
      "│ TechSupport                  │ object         │ qualitative                │\n",
      "├──────────────────────────────┼────────────────┼────────────────────────────┤\n",
      "│ StreamingTV                  │ object         │ qualitative                │\n",
      "├──────────────────────────────┼────────────────┼────────────────────────────┤\n",
      "│ StreamingMovies              │ object         │ qualitative                │\n",
      "├──────────────────────────────┼────────────────┼────────────────────────────┤\n",
      "│ PaperlessBilling             │ object         │ qualitative                │\n",
      "├──────────────────────────────┼────────────────┼────────────────────────────┤\n",
      "│ PaymentMethod                │ object         │ qualitative                │\n",
      "├──────────────────────────────┼────────────────┼────────────────────────────┤\n",
      "│ Tenure                       │ float64        │ quantitative               │\n",
      "├──────────────────────────────┼────────────────┼────────────────────────────┤\n",
      "│ MonthlyCharge                │ float64        │ quantitative               │\n",
      "├──────────────────────────────┼────────────────┼────────────────────────────┤\n",
      "│ Bandwidth_GB_Year            │ float64        │ quantitative               │\n",
      "├──────────────────────────────┼────────────────┼────────────────────────────┤\n",
      "│ timely_response              │ int64          │ quantitative               │\n",
      "├──────────────────────────────┼────────────────┼────────────────────────────┤\n",
      "│ timely_fixes                 │ int64          │ quantitative               │\n",
      "├──────────────────────────────┼────────────────┼────────────────────────────┤\n",
      "│ timely_replacements          │ int64          │ quantitative               │\n",
      "├──────────────────────────────┼────────────────┼────────────────────────────┤\n",
      "│ reliability                  │ int64          │ quantitative               │\n",
      "├──────────────────────────────┼────────────────┼────────────────────────────┤\n",
      "│ options                      │ int64          │ quantitative               │\n",
      "├──────────────────────────────┼────────────────┼────────────────────────────┤\n",
      "│ repectful_response           │ int64          │ quantitative               │\n",
      "├──────────────────────────────┼────────────────┼────────────────────────────┤\n",
      "│ courteous_exchange           │ int64          │ quantitative               │\n",
      "├──────────────────────────────┼────────────────┼────────────────────────────┤\n",
      "│ evidence_of_active_listening │ int64          │ quantitative               │\n",
      "╘══════════════════════════════╧════════════════╧════════════════════════════╛\n"
     ]
    }
   ],
   "source": [
    "table = [['Variable Name', 'python_dtype', 'quantitative/qualitative'],         \n",
    "         ['Tablet', 'object', 'qualitative'],['InternetService', 'object', 'qualitative'],['Phone', 'object', 'qualitative'],['Multiple', 'object', 'qualitative'],\n",
    "         ['OnlineSecurity', 'object', 'qualitative'],['OnlineBackup', 'object', 'qualitative'],['DeviceProtection', 'object', 'qualitative'], ['TechSupport', 'object', 'qualitative'],\n",
    "         ['StreamingTV', 'object', 'qualitative'],['StreamingMovies', 'object', 'qualitative'],['PaperlessBilling', 'object', 'qualitative'], ['PaymentMethod', 'object', 'qualitative'],\n",
    "         ['Tenure', 'float64', 'quantitative'],['MonthlyCharge', 'float64', 'quantitative'],['Bandwidth_GB_Year','float64','quantitative'], ['timely_response','int64','quantitative'],\n",
    "         ['timely_fixes','int64','quantitative'],['timely_replacements','int64','quantitative'],['reliability', 'int64', 'quantitative'], ['options', 'int64', 'quantitative'],\n",
    "         ['repectful_response', 'int64', 'quantitative'],['courteous_exchange', 'int64', 'quantitative'],['evidence_of_active_listening', 'int64', 'quantitative']]\n",
    "print(tabulate(table,headers='firstrow',tablefmt='fancy_grid'))"
   ]
  },
  {
   "cell_type": "code",
   "execution_count": null,
   "id": "ca528014-1f96-4259-a90c-43d473c51af6",
   "metadata": {},
   "outputs": [],
   "source": []
  },
  {
   "cell_type": "code",
   "execution_count": null,
   "id": "9b5a485a-1c14-45a4-81fc-99b7a2b677a9",
   "metadata": {},
   "outputs": [],
   "source": []
  },
  {
   "cell_type": "markdown",
   "id": "1d201c3c-2db5-487f-9123-43baf4b605c4",
   "metadata": {
    "tags": []
   },
   "source": [
    "## Education"
   ]
  },
  {
   "cell_type": "code",
   "execution_count": 28,
   "id": "ad796ef9-b711-4c81-ada7-dd840909dff8",
   "metadata": {
    "tags": []
   },
   "outputs": [
    {
     "data": {
      "text/plain": [
       "array([\"Master's Degree\", 'Regular High School Diploma',\n",
       "       'Doctorate Degree', 'No Schooling Completed', \"Associate's Degree\",\n",
       "       \"Bachelor's Degree\", 'Some College, Less than 1 Year',\n",
       "       'GED or Alternative Credential',\n",
       "       'Some College, 1 or More Years, No Degree',\n",
       "       '9th Grade to 12th Grade, No Diploma',\n",
       "       'Nursery School to 8th Grade', 'Professional School Degree'],\n",
       "      dtype=object)"
      ]
     },
     "execution_count": 28,
     "metadata": {},
     "output_type": "execute_result"
    }
   ],
   "source": [
    "churn_df.Education.unique()"
   ]
  },
  {
   "cell_type": "code",
   "execution_count": 29,
   "id": "277b5461-76cb-44d9-af49-7a31883abecb",
   "metadata": {
    "tags": []
   },
   "outputs": [],
   "source": [
    "churn_df['education_numeric'] = churn_df['Education']\n",
    "dict_edu = {\"education_numeric\":{\"No Schooling Completed\" : 0,  \"Nursery School to 8th Grade\" :4, \"9th Grade to 12th Grade, No Diploma\" : 10, \"Regular High School Diploma\": 12,\n",
    "                                 \"GED or Alternative Credential\": 12, \"Some College, Less than 1 Year\" : 12, \"Some College, 1 or More Years, No Degree\" : 13, \"Associate's Degree\" : 14,\n",
    "                                 \"Bachelor's Degree\" : 16, \"Master's Degree\" : 18, \"Professional School Degree\" : 18, \"Doctorate Degree\": 20}}\n",
    "churn_df.replace(dict_edu, inplace=True)"
   ]
  },
  {
   "cell_type": "code",
   "execution_count": 30,
   "id": "3d9fc05c-0c83-4f3f-965e-b4a5c8cb8df2",
   "metadata": {
    "tags": []
   },
   "outputs": [],
   "source": [
    "new_columns = ['CaseOrder', 'Customer_id', 'Interaction', 'City', 'State', 'County',\n",
    "       'Zip','fixed_zip', 'Lat', 'Lng', 'Population', 'Area', 'Timezone', 'Job',\n",
    "       'Children', 'Age', 'Education','education_numeric', 'Employment', 'Income', 'Marital',\n",
    "       'Gender', 'Churn', 'Outage_sec_perweek', 'Email', 'Contacts',\n",
    "       'Yearly_equip_failure', 'Techie', 'Contract', 'Port_modem', 'Tablet',\n",
    "       'InternetService', 'Phone', 'Multiple', 'OnlineSecurity',\n",
    "       'OnlineBackup', 'DeviceProtection', 'TechSupport', 'StreamingTV',\n",
    "       'StreamingMovies', 'PaperlessBilling', 'PaymentMethod', 'Tenure',\n",
    "       'MonthlyCharge', 'Bandwidth_GB_Year', 'timely_response', 'timely_fixes',\n",
    "       'timely_replacements', 'reliability', 'options', 'repectful_response',\n",
    "       'courteous_exchange', 'evidence_of_active_listening']\n",
    "churn_df=churn_df.reindex(columns=new_columns)"
   ]
  },
  {
   "cell_type": "code",
   "execution_count": null,
   "id": "6283653e-ef91-46cb-9e44-e224298821a5",
   "metadata": {},
   "outputs": [],
   "source": []
  },
  {
   "cell_type": "code",
   "execution_count": 31,
   "id": "2a7fbba2-10b6-4d16-b55b-00d1aaeeb7e1",
   "metadata": {
    "tags": []
   },
   "outputs": [
    {
     "data": {
      "text/html": [
       "<div>\n",
       "<style scoped>\n",
       "    .dataframe tbody tr th:only-of-type {\n",
       "        vertical-align: middle;\n",
       "    }\n",
       "\n",
       "    .dataframe tbody tr th {\n",
       "        vertical-align: top;\n",
       "    }\n",
       "\n",
       "    .dataframe thead th {\n",
       "        text-align: right;\n",
       "    }\n",
       "</style>\n",
       "<table border=\"1\" class=\"dataframe\">\n",
       "  <thead>\n",
       "    <tr style=\"text-align: right;\">\n",
       "      <th></th>\n",
       "      <th>CaseOrder</th>\n",
       "      <th>Customer_id</th>\n",
       "      <th>Interaction</th>\n",
       "      <th>City</th>\n",
       "      <th>State</th>\n",
       "      <th>County</th>\n",
       "      <th>Zip</th>\n",
       "      <th>fixed_zip</th>\n",
       "      <th>Lat</th>\n",
       "      <th>Lng</th>\n",
       "      <th>Population</th>\n",
       "      <th>Area</th>\n",
       "      <th>Timezone</th>\n",
       "      <th>Job</th>\n",
       "      <th>Children</th>\n",
       "      <th>Age</th>\n",
       "      <th>Education</th>\n",
       "      <th>education_numeric</th>\n",
       "      <th>Employment</th>\n",
       "      <th>Income</th>\n",
       "      <th>Marital</th>\n",
       "      <th>Gender</th>\n",
       "      <th>Churn</th>\n",
       "      <th>Outage_sec_perweek</th>\n",
       "      <th>Email</th>\n",
       "      <th>Contacts</th>\n",
       "      <th>Yearly_equip_failure</th>\n",
       "      <th>Techie</th>\n",
       "      <th>Contract</th>\n",
       "      <th>Port_modem</th>\n",
       "      <th>Tablet</th>\n",
       "      <th>InternetService</th>\n",
       "      <th>Phone</th>\n",
       "      <th>Multiple</th>\n",
       "      <th>OnlineSecurity</th>\n",
       "      <th>OnlineBackup</th>\n",
       "      <th>DeviceProtection</th>\n",
       "      <th>TechSupport</th>\n",
       "      <th>StreamingTV</th>\n",
       "      <th>StreamingMovies</th>\n",
       "      <th>PaperlessBilling</th>\n",
       "      <th>PaymentMethod</th>\n",
       "      <th>Tenure</th>\n",
       "      <th>MonthlyCharge</th>\n",
       "      <th>Bandwidth_GB_Year</th>\n",
       "      <th>timely_response</th>\n",
       "      <th>timely_fixes</th>\n",
       "      <th>timely_replacements</th>\n",
       "      <th>reliability</th>\n",
       "      <th>options</th>\n",
       "      <th>repectful_response</th>\n",
       "      <th>courteous_exchange</th>\n",
       "      <th>evidence_of_active_listening</th>\n",
       "    </tr>\n",
       "  </thead>\n",
       "  <tbody>\n",
       "    <tr>\n",
       "      <th>0</th>\n",
       "      <td>1</td>\n",
       "      <td>K409198</td>\n",
       "      <td>aa90260b-4141-4a24-8e36-b04ce1f4f77b</td>\n",
       "      <td>Point Baker</td>\n",
       "      <td>AK</td>\n",
       "      <td>Prince of Wales-Hyder</td>\n",
       "      <td>99927</td>\n",
       "      <td>99927</td>\n",
       "      <td>56.25100</td>\n",
       "      <td>-133.37571</td>\n",
       "      <td>38</td>\n",
       "      <td>Urban</td>\n",
       "      <td>America/Sitka</td>\n",
       "      <td>Environmental health practitioner</td>\n",
       "      <td>NaN</td>\n",
       "      <td>68.0</td>\n",
       "      <td>Master's Degree</td>\n",
       "      <td>18</td>\n",
       "      <td>Part Time</td>\n",
       "      <td>28561.99</td>\n",
       "      <td>Widowed</td>\n",
       "      <td>Male</td>\n",
       "      <td>No</td>\n",
       "      <td>6.972566</td>\n",
       "      <td>10</td>\n",
       "      <td>0</td>\n",
       "      <td>1</td>\n",
       "      <td>No</td>\n",
       "      <td>One year</td>\n",
       "      <td>Yes</td>\n",
       "      <td>Yes</td>\n",
       "      <td>Fiber Optic</td>\n",
       "      <td>Yes</td>\n",
       "      <td>No</td>\n",
       "      <td>Yes</td>\n",
       "      <td>Yes</td>\n",
       "      <td>No</td>\n",
       "      <td>No</td>\n",
       "      <td>No</td>\n",
       "      <td>Yes</td>\n",
       "      <td>Yes</td>\n",
       "      <td>Credit Card (automatic)</td>\n",
       "      <td>6.795513</td>\n",
       "      <td>171.449762</td>\n",
       "      <td>904.536110</td>\n",
       "      <td>5</td>\n",
       "      <td>5</td>\n",
       "      <td>5</td>\n",
       "      <td>3</td>\n",
       "      <td>4</td>\n",
       "      <td>4</td>\n",
       "      <td>3</td>\n",
       "      <td>4</td>\n",
       "    </tr>\n",
       "    <tr>\n",
       "      <th>1</th>\n",
       "      <td>2</td>\n",
       "      <td>S120509</td>\n",
       "      <td>fb76459f-c047-4a9d-8af9-e0f7d4ac2524</td>\n",
       "      <td>West Branch</td>\n",
       "      <td>MI</td>\n",
       "      <td>Ogemaw</td>\n",
       "      <td>48661</td>\n",
       "      <td>48661</td>\n",
       "      <td>44.32893</td>\n",
       "      <td>-84.24080</td>\n",
       "      <td>10446</td>\n",
       "      <td>Urban</td>\n",
       "      <td>America/Detroit</td>\n",
       "      <td>Programmer, multimedia</td>\n",
       "      <td>1.0</td>\n",
       "      <td>27.0</td>\n",
       "      <td>Regular High School Diploma</td>\n",
       "      <td>12</td>\n",
       "      <td>Retired</td>\n",
       "      <td>21704.77</td>\n",
       "      <td>Married</td>\n",
       "      <td>Female</td>\n",
       "      <td>Yes</td>\n",
       "      <td>12.014541</td>\n",
       "      <td>12</td>\n",
       "      <td>0</td>\n",
       "      <td>1</td>\n",
       "      <td>Yes</td>\n",
       "      <td>Month-to-month</td>\n",
       "      <td>No</td>\n",
       "      <td>Yes</td>\n",
       "      <td>Fiber Optic</td>\n",
       "      <td>Yes</td>\n",
       "      <td>Yes</td>\n",
       "      <td>Yes</td>\n",
       "      <td>No</td>\n",
       "      <td>No</td>\n",
       "      <td>No</td>\n",
       "      <td>Yes</td>\n",
       "      <td>Yes</td>\n",
       "      <td>Yes</td>\n",
       "      <td>Bank Transfer(automatic)</td>\n",
       "      <td>1.156681</td>\n",
       "      <td>242.948015</td>\n",
       "      <td>800.982766</td>\n",
       "      <td>3</td>\n",
       "      <td>4</td>\n",
       "      <td>3</td>\n",
       "      <td>3</td>\n",
       "      <td>4</td>\n",
       "      <td>3</td>\n",
       "      <td>4</td>\n",
       "      <td>4</td>\n",
       "    </tr>\n",
       "    <tr>\n",
       "      <th>2</th>\n",
       "      <td>3</td>\n",
       "      <td>K191035</td>\n",
       "      <td>344d114c-3736-4be5-98f7-c72c281e2d35</td>\n",
       "      <td>Yamhill</td>\n",
       "      <td>OR</td>\n",
       "      <td>Yamhill</td>\n",
       "      <td>97148</td>\n",
       "      <td>97148</td>\n",
       "      <td>45.35589</td>\n",
       "      <td>-123.24657</td>\n",
       "      <td>3735</td>\n",
       "      <td>Urban</td>\n",
       "      <td>America/Los_Angeles</td>\n",
       "      <td>Chief Financial Officer</td>\n",
       "      <td>4.0</td>\n",
       "      <td>50.0</td>\n",
       "      <td>Regular High School Diploma</td>\n",
       "      <td>12</td>\n",
       "      <td>Student</td>\n",
       "      <td>NaN</td>\n",
       "      <td>Widowed</td>\n",
       "      <td>Female</td>\n",
       "      <td>No</td>\n",
       "      <td>10.245616</td>\n",
       "      <td>9</td>\n",
       "      <td>0</td>\n",
       "      <td>1</td>\n",
       "      <td>Yes</td>\n",
       "      <td>Two Year</td>\n",
       "      <td>Yes</td>\n",
       "      <td>No</td>\n",
       "      <td>DSL</td>\n",
       "      <td>Yes</td>\n",
       "      <td>Yes</td>\n",
       "      <td>No</td>\n",
       "      <td>No</td>\n",
       "      <td>No</td>\n",
       "      <td>No</td>\n",
       "      <td>No</td>\n",
       "      <td>Yes</td>\n",
       "      <td>Yes</td>\n",
       "      <td>Credit Card (automatic)</td>\n",
       "      <td>15.754144</td>\n",
       "      <td>159.440398</td>\n",
       "      <td>2054.706961</td>\n",
       "      <td>4</td>\n",
       "      <td>4</td>\n",
       "      <td>2</td>\n",
       "      <td>4</td>\n",
       "      <td>4</td>\n",
       "      <td>3</td>\n",
       "      <td>3</td>\n",
       "      <td>3</td>\n",
       "    </tr>\n",
       "    <tr>\n",
       "      <th>3</th>\n",
       "      <td>4</td>\n",
       "      <td>D90850</td>\n",
       "      <td>abfa2b40-2d43-4994-b15a-989b8c79e311</td>\n",
       "      <td>Del Mar</td>\n",
       "      <td>CA</td>\n",
       "      <td>San Diego</td>\n",
       "      <td>92014</td>\n",
       "      <td>92014</td>\n",
       "      <td>32.96687</td>\n",
       "      <td>-117.24798</td>\n",
       "      <td>13863</td>\n",
       "      <td>Suburban</td>\n",
       "      <td>America/Los_Angeles</td>\n",
       "      <td>Solicitor</td>\n",
       "      <td>1.0</td>\n",
       "      <td>48.0</td>\n",
       "      <td>Doctorate Degree</td>\n",
       "      <td>20</td>\n",
       "      <td>Retired</td>\n",
       "      <td>18925.23</td>\n",
       "      <td>Married</td>\n",
       "      <td>Male</td>\n",
       "      <td>No</td>\n",
       "      <td>15.206193</td>\n",
       "      <td>15</td>\n",
       "      <td>2</td>\n",
       "      <td>0</td>\n",
       "      <td>Yes</td>\n",
       "      <td>Two Year</td>\n",
       "      <td>No</td>\n",
       "      <td>No</td>\n",
       "      <td>DSL</td>\n",
       "      <td>Yes</td>\n",
       "      <td>No</td>\n",
       "      <td>Yes</td>\n",
       "      <td>No</td>\n",
       "      <td>No</td>\n",
       "      <td>No</td>\n",
       "      <td>Yes</td>\n",
       "      <td>No</td>\n",
       "      <td>Yes</td>\n",
       "      <td>Mailed Check</td>\n",
       "      <td>17.087227</td>\n",
       "      <td>120.249493</td>\n",
       "      <td>2164.579412</td>\n",
       "      <td>4</td>\n",
       "      <td>4</td>\n",
       "      <td>4</td>\n",
       "      <td>2</td>\n",
       "      <td>5</td>\n",
       "      <td>4</td>\n",
       "      <td>3</td>\n",
       "      <td>3</td>\n",
       "    </tr>\n",
       "    <tr>\n",
       "      <th>4</th>\n",
       "      <td>5</td>\n",
       "      <td>K662701</td>\n",
       "      <td>68a861fd-0d20-4e51-a587-8a90407ee574</td>\n",
       "      <td>Needville</td>\n",
       "      <td>TX</td>\n",
       "      <td>Fort Bend</td>\n",
       "      <td>77461</td>\n",
       "      <td>77461</td>\n",
       "      <td>29.38012</td>\n",
       "      <td>-95.80673</td>\n",
       "      <td>11352</td>\n",
       "      <td>Suburban</td>\n",
       "      <td>America/Chicago</td>\n",
       "      <td>Medical illustrator</td>\n",
       "      <td>0.0</td>\n",
       "      <td>83.0</td>\n",
       "      <td>Master's Degree</td>\n",
       "      <td>18</td>\n",
       "      <td>Student</td>\n",
       "      <td>40074.19</td>\n",
       "      <td>Separated</td>\n",
       "      <td>Male</td>\n",
       "      <td>Yes</td>\n",
       "      <td>8.960316</td>\n",
       "      <td>16</td>\n",
       "      <td>2</td>\n",
       "      <td>1</td>\n",
       "      <td>No</td>\n",
       "      <td>Month-to-month</td>\n",
       "      <td>Yes</td>\n",
       "      <td>No</td>\n",
       "      <td>Fiber Optic</td>\n",
       "      <td>No</td>\n",
       "      <td>No</td>\n",
       "      <td>No</td>\n",
       "      <td>No</td>\n",
       "      <td>No</td>\n",
       "      <td>Yes</td>\n",
       "      <td>Yes</td>\n",
       "      <td>No</td>\n",
       "      <td>No</td>\n",
       "      <td>Mailed Check</td>\n",
       "      <td>1.670972</td>\n",
       "      <td>150.761216</td>\n",
       "      <td>271.493436</td>\n",
       "      <td>4</td>\n",
       "      <td>4</td>\n",
       "      <td>4</td>\n",
       "      <td>3</td>\n",
       "      <td>4</td>\n",
       "      <td>4</td>\n",
       "      <td>4</td>\n",
       "      <td>5</td>\n",
       "    </tr>\n",
       "  </tbody>\n",
       "</table>\n",
       "</div>"
      ],
      "text/plain": [
       "   CaseOrder Customer_id                           Interaction         City  \\\n",
       "0          1     K409198  aa90260b-4141-4a24-8e36-b04ce1f4f77b  Point Baker   \n",
       "1          2     S120509  fb76459f-c047-4a9d-8af9-e0f7d4ac2524  West Branch   \n",
       "2          3     K191035  344d114c-3736-4be5-98f7-c72c281e2d35      Yamhill   \n",
       "3          4      D90850  abfa2b40-2d43-4994-b15a-989b8c79e311      Del Mar   \n",
       "4          5     K662701  68a861fd-0d20-4e51-a587-8a90407ee574    Needville   \n",
       "\n",
       "  State                 County    Zip fixed_zip       Lat        Lng  \\\n",
       "0    AK  Prince of Wales-Hyder  99927     99927  56.25100 -133.37571   \n",
       "1    MI                 Ogemaw  48661     48661  44.32893  -84.24080   \n",
       "2    OR                Yamhill  97148     97148  45.35589 -123.24657   \n",
       "3    CA              San Diego  92014     92014  32.96687 -117.24798   \n",
       "4    TX              Fort Bend  77461     77461  29.38012  -95.80673   \n",
       "\n",
       "   Population      Area             Timezone  \\\n",
       "0          38     Urban        America/Sitka   \n",
       "1       10446     Urban      America/Detroit   \n",
       "2        3735     Urban  America/Los_Angeles   \n",
       "3       13863  Suburban  America/Los_Angeles   \n",
       "4       11352  Suburban      America/Chicago   \n",
       "\n",
       "                                 Job  Children   Age  \\\n",
       "0  Environmental health practitioner       NaN  68.0   \n",
       "1             Programmer, multimedia       1.0  27.0   \n",
       "2            Chief Financial Officer       4.0  50.0   \n",
       "3                          Solicitor       1.0  48.0   \n",
       "4                Medical illustrator       0.0  83.0   \n",
       "\n",
       "                     Education  education_numeric Employment    Income  \\\n",
       "0              Master's Degree                 18  Part Time  28561.99   \n",
       "1  Regular High School Diploma                 12    Retired  21704.77   \n",
       "2  Regular High School Diploma                 12    Student       NaN   \n",
       "3             Doctorate Degree                 20    Retired  18925.23   \n",
       "4              Master's Degree                 18    Student  40074.19   \n",
       "\n",
       "     Marital  Gender Churn  Outage_sec_perweek  Email  Contacts  \\\n",
       "0    Widowed    Male    No            6.972566     10         0   \n",
       "1    Married  Female   Yes           12.014541     12         0   \n",
       "2    Widowed  Female    No           10.245616      9         0   \n",
       "3    Married    Male    No           15.206193     15         2   \n",
       "4  Separated    Male   Yes            8.960316     16         2   \n",
       "\n",
       "   Yearly_equip_failure Techie        Contract Port_modem Tablet  \\\n",
       "0                     1     No        One year        Yes    Yes   \n",
       "1                     1    Yes  Month-to-month         No    Yes   \n",
       "2                     1    Yes        Two Year        Yes     No   \n",
       "3                     0    Yes        Two Year         No     No   \n",
       "4                     1     No  Month-to-month        Yes     No   \n",
       "\n",
       "  InternetService Phone Multiple OnlineSecurity OnlineBackup DeviceProtection  \\\n",
       "0     Fiber Optic   Yes       No            Yes          Yes               No   \n",
       "1     Fiber Optic   Yes      Yes            Yes           No               No   \n",
       "2             DSL   Yes      Yes             No           No               No   \n",
       "3             DSL   Yes       No            Yes           No               No   \n",
       "4     Fiber Optic    No       No             No           No               No   \n",
       "\n",
       "  TechSupport StreamingTV StreamingMovies PaperlessBilling  \\\n",
       "0          No          No             Yes              Yes   \n",
       "1          No         Yes             Yes              Yes   \n",
       "2          No          No             Yes              Yes   \n",
       "3          No         Yes              No              Yes   \n",
       "4         Yes         Yes              No               No   \n",
       "\n",
       "              PaymentMethod     Tenure  MonthlyCharge  Bandwidth_GB_Year  \\\n",
       "0   Credit Card (automatic)   6.795513     171.449762         904.536110   \n",
       "1  Bank Transfer(automatic)   1.156681     242.948015         800.982766   \n",
       "2   Credit Card (automatic)  15.754144     159.440398        2054.706961   \n",
       "3              Mailed Check  17.087227     120.249493        2164.579412   \n",
       "4              Mailed Check   1.670972     150.761216         271.493436   \n",
       "\n",
       "   timely_response  timely_fixes  timely_replacements  reliability  options  \\\n",
       "0                5             5                    5            3        4   \n",
       "1                3             4                    3            3        4   \n",
       "2                4             4                    2            4        4   \n",
       "3                4             4                    4            2        5   \n",
       "4                4             4                    4            3        4   \n",
       "\n",
       "   repectful_response  courteous_exchange  evidence_of_active_listening  \n",
       "0                   4                   3                             4  \n",
       "1                   3                   4                             4  \n",
       "2                   3                   3                             3  \n",
       "3                   4                   3                             3  \n",
       "4                   4                   4                             5  "
      ]
     },
     "execution_count": 31,
     "metadata": {},
     "output_type": "execute_result"
    }
   ],
   "source": [
    "churn_df.head()"
   ]
  },
  {
   "cell_type": "code",
   "execution_count": 32,
   "id": "b0e123ce-7b13-44f6-a0d0-b9f29f505244",
   "metadata": {
    "tags": []
   },
   "outputs": [
    {
     "data": {
      "text/plain": [
       "(10000, 53)"
      ]
     },
     "execution_count": 32,
     "metadata": {},
     "output_type": "execute_result"
    }
   ],
   "source": [
    "churn_df.shape"
   ]
  },
  {
   "cell_type": "code",
   "execution_count": null,
   "id": "39abc527-aea7-486d-ac3f-ed50072788b6",
   "metadata": {},
   "outputs": [],
   "source": []
  },
  {
   "cell_type": "code",
   "execution_count": 33,
   "id": "5352b565-228d-44c8-8d4c-97c195e78e08",
   "metadata": {
    "tags": []
   },
   "outputs": [
    {
     "data": {
      "text/plain": [
       "CaseOrder                          0\n",
       "Customer_id                        0\n",
       "Interaction                        0\n",
       "City                               0\n",
       "State                              0\n",
       "County                             0\n",
       "Zip                                0\n",
       "fixed_zip                          0\n",
       "Lat                                0\n",
       "Lng                                0\n",
       "Population                         0\n",
       "Area                               0\n",
       "Timezone                           0\n",
       "Job                                0\n",
       "Children                        2495\n",
       "Age                             2475\n",
       "Education                          0\n",
       "education_numeric                  0\n",
       "Employment                         0\n",
       "Income                          2490\n",
       "Marital                            0\n",
       "Gender                             0\n",
       "Churn                              0\n",
       "Outage_sec_perweek                 0\n",
       "Email                              0\n",
       "Contacts                           0\n",
       "Yearly_equip_failure               0\n",
       "Techie                          2477\n",
       "Contract                           0\n",
       "Port_modem                         0\n",
       "Tablet                             0\n",
       "InternetService                    0\n",
       "Phone                           1026\n",
       "Multiple                           0\n",
       "OnlineSecurity                     0\n",
       "OnlineBackup                       0\n",
       "DeviceProtection                   0\n",
       "TechSupport                      991\n",
       "StreamingTV                        0\n",
       "StreamingMovies                    0\n",
       "PaperlessBilling                   0\n",
       "PaymentMethod                      0\n",
       "Tenure                           931\n",
       "MonthlyCharge                      0\n",
       "Bandwidth_GB_Year               1021\n",
       "timely_response                    0\n",
       "timely_fixes                       0\n",
       "timely_replacements                0\n",
       "reliability                        0\n",
       "options                            0\n",
       "repectful_response                 0\n",
       "courteous_exchange                 0\n",
       "evidence_of_active_listening       0\n",
       "dtype: int64"
      ]
     },
     "execution_count": 33,
     "metadata": {},
     "output_type": "execute_result"
    }
   ],
   "source": [
    "churn_df.isna().sum()"
   ]
  },
  {
   "cell_type": "markdown",
   "id": "5e256747-92b0-48f6-bbdc-55e6aac3b9df",
   "metadata": {},
   "source": [
    "## Visualizing Missing Numbers"
   ]
  },
  {
   "cell_type": "code",
   "execution_count": 34,
   "id": "420ea69d-a430-49c7-8d56-0fd996d23fc6",
   "metadata": {
    "tags": []
   },
   "outputs": [
    {
     "data": {
      "text/plain": [
       "<Axes: >"
      ]
     },
     "execution_count": 34,
     "metadata": {},
     "output_type": "execute_result"
    },
    {
     "data": {
      "image/png": "[encoded data removed]",
      "text/plain": [
       "<Figure size 2400x1000 with 5 Axes>"
      ]
     },
     "metadata": {},
     "output_type": "display_data"
    }
   ],
   "source": [
    "cols=churn_df.columns\n",
    "msno.bar(churn_df[cols[:20]], fontsize=8)\n",
    "msno.bar(churn_df[cols[20:]],fontsize=8)"
   ]
  },
  {
   "cell_type": "raw",
   "id": "e3a1df12-0b0b-4df8-bdeb-417a7216d170",
   "metadata": {},
   "source": []
  },
  {
   "cell_type": "code",
   "execution_count": 35,
   "id": "3f2d021f-b6ad-4235-82d8-ce4213b723a6",
   "metadata": {
    "tags": []
   },
   "outputs": [
    {
     "ename": "ValueError",
     "evalue": "keyword grid_b is not recognized; valid keywords are ['size', 'width', 'color', 'tickdir', 'pad', 'labelsize', 'labelcolor', 'zorder', 'gridOn', 'tick1On', 'tick2On', 'label1On', 'label2On', 'length', 'direction', 'left', 'bottom', 'right', 'top', 'labelleft', 'labelbottom', 'labelright', 'labeltop', 'labelrotation', 'grid_agg_filter', 'grid_alpha', 'grid_animated', 'grid_antialiased', 'grid_clip_box', 'grid_clip_on', 'grid_clip_path', 'grid_color', 'grid_dash_capstyle', 'grid_dash_joinstyle', 'grid_dashes', 'grid_data', 'grid_drawstyle', 'grid_figure', 'grid_fillstyle', 'grid_gapcolor', 'grid_gid', 'grid_in_layout', 'grid_label', 'grid_linestyle', 'grid_linewidth', 'grid_marker', 'grid_markeredgecolor', 'grid_markeredgewidth', 'grid_markerfacecolor', 'grid_markerfacecoloralt', 'grid_markersize', 'grid_markevery', 'grid_mouseover', 'grid_path_effects', 'grid_picker', 'grid_pickradius', 'grid_rasterized', 'grid_sketch_params', 'grid_snap', 'grid_solid_capstyle', 'grid_solid_joinstyle', 'grid_transform', 'grid_url', 'grid_visible', 'grid_xdata', 'grid_ydata', 'grid_zorder', 'grid_aa', 'grid_c', 'grid_ds', 'grid_ls', 'grid_lw', 'grid_mec', 'grid_mew', 'grid_mfc', 'grid_mfcalt', 'grid_ms']",
     "output_type": "error",
     "traceback": [
      "\u001b[1;31m---------------------------------------------------------------------------\u001b[0m",
      "\u001b[1;31mValueError\u001b[0m                                Traceback (most recent call last)",
      "Cell \u001b[1;32mIn[35], line 1\u001b[0m\n\u001b[1;32m----> 1\u001b[0m msno\u001b[38;5;241m.\u001b[39mmatrix(churn_df, fontsize \u001b[38;5;241m=\u001b[39m \u001b[38;5;241m8\u001b[39m, labels\u001b[38;5;241m=\u001b[39m\u001b[38;5;28;01mTrue\u001b[39;00m)\n\u001b[0;32m      2\u001b[0m plt\u001b[38;5;241m.\u001b[39mtitle(\u001b[38;5;124m'\u001b[39m\u001b[38;5;124mMissing data matrix\u001b[39m\u001b[38;5;124m'\u001b[39m)\n\u001b[0;32m      3\u001b[0m plt\u001b[38;5;241m.\u001b[39mshow()\n",
      "File \u001b[1;32m~\\anaconda3\\envs\\D206_Practice_1\\Lib\\site-packages\\missingno\\missingno.py:72\u001b[0m, in \u001b[0;36mmatrix\u001b[1;34m(df, filter, n, p, sort, figsize, width_ratios, color, fontsize, labels, sparkline, inline, freq, ax)\u001b[0m\n\u001b[0;32m     70\u001b[0m \u001b[38;5;66;03m# Remove extraneous default visual elements.\u001b[39;00m\n\u001b[0;32m     71\u001b[0m ax0\u001b[38;5;241m.\u001b[39mset_aspect(\u001b[38;5;124m'\u001b[39m\u001b[38;5;124mauto\u001b[39m\u001b[38;5;124m'\u001b[39m)\n\u001b[1;32m---> 72\u001b[0m ax0\u001b[38;5;241m.\u001b[39mgrid(b\u001b[38;5;241m=\u001b[39m\u001b[38;5;28;01mFalse\u001b[39;00m)\n\u001b[0;32m     73\u001b[0m ax0\u001b[38;5;241m.\u001b[39mxaxis\u001b[38;5;241m.\u001b[39mtick_top()\n\u001b[0;32m     74\u001b[0m ax0\u001b[38;5;241m.\u001b[39mxaxis\u001b[38;5;241m.\u001b[39mset_ticks_position(\u001b[38;5;124m'\u001b[39m\u001b[38;5;124mnone\u001b[39m\u001b[38;5;124m'\u001b[39m)\n",
      "File \u001b[1;32m~\\anaconda3\\envs\\D206_Practice_1\\Lib\\site-packages\\matplotlib\\axes\\_base.py:3194\u001b[0m, in \u001b[0;36m_AxesBase.grid\u001b[1;34m(self, visible, which, axis, **kwargs)\u001b[0m\n\u001b[0;32m   3192\u001b[0m _api\u001b[38;5;241m.\u001b[39mcheck_in_list([\u001b[38;5;124m'\u001b[39m\u001b[38;5;124mx\u001b[39m\u001b[38;5;124m'\u001b[39m, \u001b[38;5;124m'\u001b[39m\u001b[38;5;124my\u001b[39m\u001b[38;5;124m'\u001b[39m, \u001b[38;5;124m'\u001b[39m\u001b[38;5;124mboth\u001b[39m\u001b[38;5;124m'\u001b[39m], axis\u001b[38;5;241m=\u001b[39maxis)\n\u001b[0;32m   3193\u001b[0m \u001b[38;5;28;01mif\u001b[39;00m axis \u001b[38;5;129;01min\u001b[39;00m [\u001b[38;5;124m'\u001b[39m\u001b[38;5;124mx\u001b[39m\u001b[38;5;124m'\u001b[39m, \u001b[38;5;124m'\u001b[39m\u001b[38;5;124mboth\u001b[39m\u001b[38;5;124m'\u001b[39m]:\n\u001b[1;32m-> 3194\u001b[0m     \u001b[38;5;28mself\u001b[39m\u001b[38;5;241m.\u001b[39mxaxis\u001b[38;5;241m.\u001b[39mgrid(visible, which\u001b[38;5;241m=\u001b[39mwhich, \u001b[38;5;241m*\u001b[39m\u001b[38;5;241m*\u001b[39mkwargs)\n\u001b[0;32m   3195\u001b[0m \u001b[38;5;28;01mif\u001b[39;00m axis \u001b[38;5;129;01min\u001b[39;00m [\u001b[38;5;124m'\u001b[39m\u001b[38;5;124my\u001b[39m\u001b[38;5;124m'\u001b[39m, \u001b[38;5;124m'\u001b[39m\u001b[38;5;124mboth\u001b[39m\u001b[38;5;124m'\u001b[39m]:\n\u001b[0;32m   3196\u001b[0m     \u001b[38;5;28mself\u001b[39m\u001b[38;5;241m.\u001b[39myaxis\u001b[38;5;241m.\u001b[39mgrid(visible, which\u001b[38;5;241m=\u001b[39mwhich, \u001b[38;5;241m*\u001b[39m\u001b[38;5;241m*\u001b[39mkwargs)\n",
      "File \u001b[1;32m~\\anaconda3\\envs\\D206_Practice_1\\Lib\\site-packages\\matplotlib\\axis.py:1660\u001b[0m, in \u001b[0;36mAxis.grid\u001b[1;34m(self, visible, which, **kwargs)\u001b[0m\n\u001b[0;32m   1657\u001b[0m \u001b[38;5;28;01mif\u001b[39;00m which \u001b[38;5;129;01min\u001b[39;00m [\u001b[38;5;124m'\u001b[39m\u001b[38;5;124mmajor\u001b[39m\u001b[38;5;124m'\u001b[39m, \u001b[38;5;124m'\u001b[39m\u001b[38;5;124mboth\u001b[39m\u001b[38;5;124m'\u001b[39m]:\n\u001b[0;32m   1658\u001b[0m     gridkw[\u001b[38;5;124m'\u001b[39m\u001b[38;5;124mgridOn\u001b[39m\u001b[38;5;124m'\u001b[39m] \u001b[38;5;241m=\u001b[39m (\u001b[38;5;129;01mnot\u001b[39;00m \u001b[38;5;28mself\u001b[39m\u001b[38;5;241m.\u001b[39m_major_tick_kw[\u001b[38;5;124m'\u001b[39m\u001b[38;5;124mgridOn\u001b[39m\u001b[38;5;124m'\u001b[39m]\n\u001b[0;32m   1659\u001b[0m                         \u001b[38;5;28;01mif\u001b[39;00m visible \u001b[38;5;129;01mis\u001b[39;00m \u001b[38;5;28;01mNone\u001b[39;00m \u001b[38;5;28;01melse\u001b[39;00m visible)\n\u001b[1;32m-> 1660\u001b[0m     \u001b[38;5;28mself\u001b[39m\u001b[38;5;241m.\u001b[39mset_tick_params(which\u001b[38;5;241m=\u001b[39m\u001b[38;5;124m'\u001b[39m\u001b[38;5;124mmajor\u001b[39m\u001b[38;5;124m'\u001b[39m, \u001b[38;5;241m*\u001b[39m\u001b[38;5;241m*\u001b[39mgridkw)\n\u001b[0;32m   1661\u001b[0m \u001b[38;5;28mself\u001b[39m\u001b[38;5;241m.\u001b[39mstale \u001b[38;5;241m=\u001b[39m \u001b[38;5;28;01mTrue\u001b[39;00m\n",
      "File \u001b[1;32m~\\anaconda3\\envs\\D206_Practice_1\\Lib\\site-packages\\matplotlib\\axis.py:932\u001b[0m, in \u001b[0;36mAxis.set_tick_params\u001b[1;34m(self, which, reset, **kwargs)\u001b[0m\n\u001b[0;32m    919\u001b[0m \u001b[38;5;250m\u001b[39m\u001b[38;5;124;03m\"\"\"\u001b[39;00m\n\u001b[0;32m    920\u001b[0m \u001b[38;5;124;03mSet appearance parameters for ticks, ticklabels, and gridlines.\u001b[39;00m\n\u001b[0;32m    921\u001b[0m \n\u001b[1;32m   (...)\u001b[0m\n\u001b[0;32m    929\u001b[0m \u001b[38;5;124;03m    gridlines.\u001b[39;00m\n\u001b[0;32m    930\u001b[0m \u001b[38;5;124;03m\"\"\"\u001b[39;00m\n\u001b[0;32m    931\u001b[0m _api\u001b[38;5;241m.\u001b[39mcheck_in_list([\u001b[38;5;124m'\u001b[39m\u001b[38;5;124mmajor\u001b[39m\u001b[38;5;124m'\u001b[39m, \u001b[38;5;124m'\u001b[39m\u001b[38;5;124mminor\u001b[39m\u001b[38;5;124m'\u001b[39m, \u001b[38;5;124m'\u001b[39m\u001b[38;5;124mboth\u001b[39m\u001b[38;5;124m'\u001b[39m], which\u001b[38;5;241m=\u001b[39mwhich)\n\u001b[1;32m--> 932\u001b[0m kwtrans \u001b[38;5;241m=\u001b[39m \u001b[38;5;28mself\u001b[39m\u001b[38;5;241m.\u001b[39m_translate_tick_params(kwargs)\n\u001b[0;32m    934\u001b[0m \u001b[38;5;66;03m# the kwargs are stored in self._major/minor_tick_kw so that any\u001b[39;00m\n\u001b[0;32m    935\u001b[0m \u001b[38;5;66;03m# future new ticks will automatically get them\u001b[39;00m\n\u001b[0;32m    936\u001b[0m \u001b[38;5;28;01mif\u001b[39;00m reset:\n",
      "File \u001b[1;32m~\\anaconda3\\envs\\D206_Practice_1\\Lib\\site-packages\\matplotlib\\axis.py:1076\u001b[0m, in \u001b[0;36mAxis._translate_tick_params\u001b[1;34m(kw, reverse)\u001b[0m\n\u001b[0;32m   1074\u001b[0m \u001b[38;5;28;01mfor\u001b[39;00m key \u001b[38;5;129;01min\u001b[39;00m kw_:\n\u001b[0;32m   1075\u001b[0m     \u001b[38;5;28;01mif\u001b[39;00m key \u001b[38;5;129;01mnot\u001b[39;00m \u001b[38;5;129;01min\u001b[39;00m allowed_keys:\n\u001b[1;32m-> 1076\u001b[0m         \u001b[38;5;28;01mraise\u001b[39;00m \u001b[38;5;167;01mValueError\u001b[39;00m(\n\u001b[0;32m   1077\u001b[0m             \u001b[38;5;124m\"\u001b[39m\u001b[38;5;124mkeyword \u001b[39m\u001b[38;5;132;01m%s\u001b[39;00m\u001b[38;5;124m is not recognized; valid keywords are \u001b[39m\u001b[38;5;132;01m%s\u001b[39;00m\u001b[38;5;124m\"\u001b[39m\n\u001b[0;32m   1078\u001b[0m             \u001b[38;5;241m%\u001b[39m (key, allowed_keys))\n\u001b[0;32m   1079\u001b[0m kwtrans\u001b[38;5;241m.\u001b[39mupdate(kw_)\n\u001b[0;32m   1080\u001b[0m \u001b[38;5;28;01mreturn\u001b[39;00m kwtrans\n",
      "\u001b[1;31mValueError\u001b[0m: keyword grid_b is not recognized; valid keywords are ['size', 'width', 'color', 'tickdir', 'pad', 'labelsize', 'labelcolor', 'zorder', 'gridOn', 'tick1On', 'tick2On', 'label1On', 'label2On', 'length', 'direction', 'left', 'bottom', 'right', 'top', 'labelleft', 'labelbottom', 'labelright', 'labeltop', 'labelrotation', 'grid_agg_filter', 'grid_alpha', 'grid_animated', 'grid_antialiased', 'grid_clip_box', 'grid_clip_on', 'grid_clip_path', 'grid_color', 'grid_dash_capstyle', 'grid_dash_joinstyle', 'grid_dashes', 'grid_data', 'grid_drawstyle', 'grid_figure', 'grid_fillstyle', 'grid_gapcolor', 'grid_gid', 'grid_in_layout', 'grid_label', 'grid_linestyle', 'grid_linewidth', 'grid_marker', 'grid_markeredgecolor', 'grid_markeredgewidth', 'grid_markerfacecolor', 'grid_markerfacecoloralt', 'grid_markersize', 'grid_markevery', 'grid_mouseover', 'grid_path_effects', 'grid_picker', 'grid_pickradius', 'grid_rasterized', 'grid_sketch_params', 'grid_snap', 'grid_solid_capstyle', 'grid_solid_joinstyle', 'grid_transform', 'grid_url', 'grid_visible', 'grid_xdata', 'grid_ydata', 'grid_zorder', 'grid_aa', 'grid_c', 'grid_ds', 'grid_ls', 'grid_lw', 'grid_mec', 'grid_mew', 'grid_mfc', 'grid_mfcalt', 'grid_ms']"
     ]
    },
    {
     "data": {
      "image/png": "[encoded data removed]",
      "text/plain": [
       "<Figure size 2500x1000 with 2 Axes>"
      ]
     },
     "metadata": {},
     "output_type": "display_data"
    }
   ],
   "source": [
    "msno.matrix(churn_df, fontsize = 8, labels=True)\n",
    "plt.title('Missing data matrix')\n",
    "plt.show()"
   ]
  },
  {
   "cell_type": "markdown",
   "id": "b6aa88be-49e8-4865-8106-ba352de988c8",
   "metadata": {},
   "source": [
    "## Calcualte Curn Rate"
   ]
  },
  {
   "cell_type": "code",
   "execution_count": 36,
   "id": "2128bff0-b179-4cc6-83c9-2a275fee5e64",
   "metadata": {
    "tags": []
   },
   "outputs": [
    {
     "data": {
      "text/plain": [
       "No     0.735\n",
       "Yes    0.265\n",
       "Name: Churn, dtype: float64"
      ]
     },
     "execution_count": 36,
     "metadata": {},
     "output_type": "execute_result"
    }
   ],
   "source": [
    "churn_df.Churn.value_counts()/len(churn_df)"
   ]
  },
  {
   "cell_type": "code",
   "execution_count": 37,
   "id": "4775bd26-cde4-4110-ada8-1f2d56367930",
   "metadata": {},
   "outputs": [
    {
     "data": {
      "text/plain": [
       "<Axes: >"
      ]
     },
     "execution_count": 37,
     "metadata": {},
     "output_type": "execute_result"
    },
    {
     "data": {
      "image/png": "[encoded data removed]",
      "text/plain": [
       "<Figure size 640x480 with 1 Axes>"
      ]
     },
     "metadata": {},
     "output_type": "display_data"
    }
   ],
   "source": [
    "churn_df['Income'].hist()"
   ]
  },
  {
   "cell_type": "markdown",
   "id": "78d822e4-0053-4ef2-a2e4-4835cc446c43",
   "metadata": {},
   "source": [
    "## Compute Standard deviation"
   ]
  },
  {
   "cell_type": "code",
   "execution_count": 38,
   "id": "8059842f-4570-4f29-a8ed-832964cbc4b8",
   "metadata": {
    "tags": []
   },
   "outputs": [
    {
     "name": "stderr",
     "output_type": "stream",
     "text": [
      "C:\\Users\\micha\\AppData\\Local\\Temp\\ipykernel_34208\\1266611303.py:1: FutureWarning: The default value of numeric_only in DataFrame.std is deprecated. In a future version, it will default to False. In addition, specifying 'numeric_only=None' is deprecated. Select only valid columns or specify the value of numeric_only to silence this warning.\n",
      "  churn_df.std()\n"
     ]
    },
    {
     "data": {
      "text/plain": [
       "CaseOrder                        2886.895680\n",
       "Zip                             27532.196108\n",
       "Lat                                 5.437389\n",
       "Lng                                15.156142\n",
       "Population                      14432.698671\n",
       "Children                            2.154758\n",
       "Age                                20.753928\n",
       "education_numeric                   3.367951\n",
       "Income                          28358.469482\n",
       "Outage_sec_perweek                  7.025921\n",
       "Email                               3.025898\n",
       "Contacts                            0.988466\n",
       "Yearly_equip_failure                0.635953\n",
       "Tenure                             26.438904\n",
       "MonthlyCharge                      43.335473\n",
       "Bandwidth_GB_Year                2187.396807\n",
       "timely_response                     1.037797\n",
       "timely_fixes                        1.034641\n",
       "timely_replacements                 1.027977\n",
       "reliability                         1.025816\n",
       "options                             1.024819\n",
       "repectful_response                  1.033586\n",
       "courteous_exchange                  1.028502\n",
       "evidence_of_active_listening        1.028633\n",
       "dtype: float64"
      ]
     },
     "execution_count": 38,
     "metadata": {},
     "output_type": "execute_result"
    }
   ],
   "source": [
    "churn_df.std()"
   ]
  },
  {
   "cell_type": "markdown",
   "id": "74537c5c-70b4-4061-8d7d-970b9268398b",
   "metadata": {},
   "source": [
    "## Compute Mean of Variables "
   ]
  },
  {
   "cell_type": "code",
   "execution_count": 39,
   "id": "4434b878-5264-479d-ad58-7e62aec63dcb",
   "metadata": {
    "tags": []
   },
   "outputs": [
    {
     "name": "stderr",
     "output_type": "stream",
     "text": [
      "C:\\Users\\micha\\AppData\\Local\\Temp\\ipykernel_34208\\2520191995.py:1: FutureWarning: The default value of numeric_only in DataFrame.mean is deprecated. In a future version, it will default to False. In addition, specifying 'numeric_only=None' is deprecated. Select only valid columns or specify the value of numeric_only to silence this warning.\n",
      "  churn_df.mean()\n"
     ]
    },
    {
     "data": {
      "text/plain": [
       "CaseOrder                       5.000500e+03\n",
       "Zip                             4.915332e+04\n",
       "fixed_zip                                inf\n",
       "Lat                             3.875757e+01\n",
       "Lng                            -9.078254e+01\n",
       "Population                      9.756562e+03\n",
       "Children                        2.095936e+00\n",
       "Age                             5.327575e+01\n",
       "education_numeric               1.298460e+01\n",
       "Income                          3.993676e+04\n",
       "Outage_sec_perweek              1.145296e+01\n",
       "Email                           1.201600e+01\n",
       "Contacts                        9.942000e-01\n",
       "Yearly_equip_failure            3.980000e-01\n",
       "Tenure                          3.449886e+01\n",
       "MonthlyCharge                   1.740763e+02\n",
       "Bandwidth_GB_Year               3.398843e+03\n",
       "timely_response                 3.490800e+00\n",
       "timely_fixes                    3.505100e+00\n",
       "timely_replacements             3.487000e+00\n",
       "reliability                     3.497500e+00\n",
       "options                         3.492900e+00\n",
       "repectful_response              3.497300e+00\n",
       "courteous_exchange              3.509500e+00\n",
       "evidence_of_active_listening    3.495600e+00\n",
       "dtype: float64"
      ]
     },
     "execution_count": 39,
     "metadata": {},
     "output_type": "execute_result"
    }
   ],
   "source": [
    "churn_df.mean()"
   ]
  },
  {
   "cell_type": "markdown",
   "id": "521c520d-d261-469e-a618-41e64ca426cf",
   "metadata": {},
   "source": [
    "## Impute Missing Values for Income "
   ]
  },
  {
   "cell_type": "code",
   "execution_count": 40,
   "id": "68ff18ad-e7c0-4b4f-b4ce-1207c186315a",
   "metadata": {
    "tags": []
   },
   "outputs": [
    {
     "data": {
      "text/plain": [
       "<Axes: >"
      ]
     },
     "execution_count": 40,
     "metadata": {},
     "output_type": "execute_result"
    },
    {
     "data": {
      "image/png": "[encoded data removed]",
      "text/plain": [
       "<Figure size 640x480 with 1 Axes>"
      ]
     },
     "metadata": {},
     "output_type": "display_data"
    }
   ],
   "source": [
    "churn_df['Income']=churn_df['Income'].fillna(churn_df['Income'].mean())\n",
    "churn_df['Income'].hist()"
   ]
  },
  {
   "cell_type": "markdown",
   "id": "090f4484-e881-4c21-95d7-db624be0b853",
   "metadata": {
    "tags": []
   },
   "source": [
    "## Compare Median to Mean"
   ]
  },
  {
   "cell_type": "code",
   "execution_count": 41,
   "id": "26bb1094-7028-46e1-85c9-302df651ac41",
   "metadata": {
    "tags": []
   },
   "outputs": [
    {
     "data": {
      "text/plain": [
       "<Axes: >"
      ]
     },
     "execution_count": 41,
     "metadata": {},
     "output_type": "execute_result"
    },
    {
     "data": {
      "image/png": "[encoded data removed]",
      "text/plain": [
       "<Figure size 640x480 with 1 Axes>"
      ]
     },
     "metadata": {},
     "output_type": "display_data"
    }
   ],
   "source": [
    "churn_df['Income']=churn_df['Income'].fillna(churn_df['Income'].median())\n",
    "churn_df['Income'].hist()"
   ]
  },
  {
   "cell_type": "markdown",
   "id": "ed90d8b7-a1d0-48f0-9405-350bc86dac59",
   "metadata": {},
   "source": [
    "## Impute Missing Values for Children"
   ]
  },
  {
   "cell_type": "code",
   "execution_count": 42,
   "id": "3d722f38-4613-41ea-967a-80c836414660",
   "metadata": {
    "tags": []
   },
   "outputs": [
    {
     "data": {
      "text/plain": [
       "<Axes: >"
      ]
     },
     "execution_count": 42,
     "metadata": {},
     "output_type": "execute_result"
    },
    {
     "data": {
      "image/png": "[encoded data removed]",
      "text/plain": [
       "<Figure size 640x480 with 1 Axes>"
      ]
     },
     "metadata": {},
     "output_type": "display_data"
    }
   ],
   "source": [
    "churn_df['Children']=churn_df['Children'].fillna(churn_df['Children'].median())\n",
    "churn_df['Children'].hist()"
   ]
  },
  {
   "cell_type": "markdown",
   "id": "f8964491-d0b1-4a4d-813f-e665511bc49c",
   "metadata": {},
   "source": [
    "##  Impute Missing Values for Age"
   ]
  },
  {
   "cell_type": "code",
   "execution_count": 43,
   "id": "e998eee6-d3ee-4f11-91e4-ab1f609b5b9c",
   "metadata": {
    "tags": []
   },
   "outputs": [
    {
     "data": {
      "text/plain": [
       "<Axes: >"
      ]
     },
     "execution_count": 43,
     "metadata": {},
     "output_type": "execute_result"
    },
    {
     "data": {
      "image/png": "[encoded data removed]",
      "text/plain": [
       "<Figure size 640x480 with 1 Axes>"
      ]
     },
     "metadata": {},
     "output_type": "display_data"
    }
   ],
   "source": [
    "churn_df['Age']=churn_df['Age'].fillna(churn_df['Age'].median())\n",
    "churn_df['Age'].hist()"
   ]
  },
  {
   "cell_type": "code",
   "execution_count": null,
   "id": "1267e61c-2884-4ef6-834e-9b6536a9b79a",
   "metadata": {},
   "outputs": [],
   "source": []
  },
  {
   "cell_type": "markdown",
   "id": "0007956e-31ea-4109-bb00-0afd3a74494f",
   "metadata": {},
   "source": [
    "## Impute Muissing Vales of Trtenure and Bandwidth_GB_Year and compare"
   ]
  },
  {
   "cell_type": "code",
   "execution_count": 44,
   "id": "2684327d-5c21-4ce3-b17a-f54899c1d32b",
   "metadata": {
    "tags": []
   },
   "outputs": [
    {
     "data": {
      "text/plain": [
       "<Axes: >"
      ]
     },
     "execution_count": 44,
     "metadata": {},
     "output_type": "execute_result"
    },
    {
     "data": {
      "image/png": "[encoded data removed]",
      "text/plain": [
       "<Figure size 640x480 with 1 Axes>"
      ]
     },
     "metadata": {},
     "output_type": "display_data"
    }
   ],
   "source": [
    "churn_df['Tenure']=churn_df['Tenure'].fillna(churn_df['Tenure'].median())\n",
    "churn_df['Tenure'].hist()"
   ]
  },
  {
   "cell_type": "code",
   "execution_count": 45,
   "id": "0cfd1136-62e8-4d7a-a10a-4dd6e48732fe",
   "metadata": {
    "tags": []
   },
   "outputs": [
    {
     "data": {
      "text/plain": [
       "<Axes: >"
      ]
     },
     "execution_count": 45,
     "metadata": {},
     "output_type": "execute_result"
    },
    {
     "data": {
      "image/png": "[encoded data removed]",
      "text/plain": [
       "<Figure size 640x480 with 1 Axes>"
      ]
     },
     "metadata": {},
     "output_type": "display_data"
    }
   ],
   "source": [
    "churn_df['Bandwidth_GB_Year']=churn_df['Bandwidth_GB_Year'].fillna(churn_df['Bandwidth_GB_Year'].median())\n",
    "churn_df['Bandwidth_GB_Year'].hist()"
   ]
  },
  {
   "cell_type": "code",
   "execution_count": 46,
   "id": "c31cfbed-c145-4a5d-ad10-826cfba6f9a3",
   "metadata": {
    "tags": []
   },
   "outputs": [
    {
     "data": {
      "text/plain": [
       "CaseOrder                          0\n",
       "Customer_id                        0\n",
       "Interaction                        0\n",
       "City                               0\n",
       "State                              0\n",
       "County                             0\n",
       "Zip                                0\n",
       "fixed_zip                          0\n",
       "Lat                                0\n",
       "Lng                                0\n",
       "Population                         0\n",
       "Area                               0\n",
       "Timezone                           0\n",
       "Job                                0\n",
       "Children                           0\n",
       "Age                                0\n",
       "Education                          0\n",
       "education_numeric                  0\n",
       "Employment                         0\n",
       "Income                             0\n",
       "Marital                            0\n",
       "Gender                             0\n",
       "Churn                              0\n",
       "Outage_sec_perweek                 0\n",
       "Email                              0\n",
       "Contacts                           0\n",
       "Yearly_equip_failure               0\n",
       "Techie                          2477\n",
       "Contract                           0\n",
       "Port_modem                         0\n",
       "Tablet                             0\n",
       "InternetService                    0\n",
       "Phone                           1026\n",
       "Multiple                           0\n",
       "OnlineSecurity                     0\n",
       "OnlineBackup                       0\n",
       "DeviceProtection                   0\n",
       "TechSupport                      991\n",
       "StreamingTV                        0\n",
       "StreamingMovies                    0\n",
       "PaperlessBilling                   0\n",
       "PaymentMethod                      0\n",
       "Tenure                             0\n",
       "MonthlyCharge                      0\n",
       "Bandwidth_GB_Year                  0\n",
       "timely_response                    0\n",
       "timely_fixes                       0\n",
       "timely_replacements                0\n",
       "reliability                        0\n",
       "options                            0\n",
       "repectful_response                 0\n",
       "courteous_exchange                 0\n",
       "evidence_of_active_listening       0\n",
       "dtype: int64"
      ]
     },
     "execution_count": 46,
     "metadata": {},
     "output_type": "execute_result"
    }
   ],
   "source": [
    "churn_df.isna().sum()"
   ]
  },
  {
   "cell_type": "markdown",
   "id": "4befbae2-ae65-4cc5-b097-6b1984800942",
   "metadata": {},
   "source": [
    "## Graph Population"
   ]
  },
  {
   "cell_type": "code",
   "execution_count": 47,
   "id": "438d374f-ac4e-46e5-a78b-b629ffd624c5",
   "metadata": {
    "tags": []
   },
   "outputs": [
    {
     "data": {
      "text/plain": [
       "<Axes: >"
      ]
     },
     "execution_count": 47,
     "metadata": {},
     "output_type": "execute_result"
    },
    {
     "data": {
      "image/png": "[encoded data removed]",
      "text/plain": [
       "<Figure size 640x480 with 1 Axes>"
      ]
     },
     "metadata": {},
     "output_type": "display_data"
    }
   ],
   "source": [
    "churn_df['Population'].hist()"
   ]
  },
  {
   "cell_type": "code",
   "execution_count": 48,
   "id": "8f5af11a-617a-47f7-bc9b-c0a5979be67a",
   "metadata": {
    "tags": []
   },
   "outputs": [
    {
     "data": {
      "text/plain": [
       "<Axes: >"
      ]
     },
     "execution_count": 48,
     "metadata": {},
     "output_type": "execute_result"
    },
    {
     "data": {
      "image/png": "[encoded data removed]",
      "text/plain": [
       "<Figure size 640x480 with 1 Axes>"
      ]
     },
     "metadata": {},
     "output_type": "display_data"
    }
   ],
   "source": [
    "churn_df['Area'].hist()"
   ]
  },
  {
   "cell_type": "code",
   "execution_count": 49,
   "id": "cea86be9-c661-4d46-b7a7-17c799b2d725",
   "metadata": {
    "tags": []
   },
   "outputs": [
    {
     "data": {
      "text/plain": [
       "<Axes: >"
      ]
     },
     "execution_count": 49,
     "metadata": {},
     "output_type": "execute_result"
    },
    {
     "data": {
      "image/png": "[encoded data removed]",
      "text/plain": [
       "<Figure size 640x480 with 1 Axes>"
      ]
     },
     "metadata": {},
     "output_type": "display_data"
    }
   ],
   "source": [
    "churn_df.boxplot(['Population'])"
   ]
  },
  {
   "cell_type": "code",
   "execution_count": 50,
   "id": "5d89029c-f2cb-4754-8a67-dc06787d57e7",
   "metadata": {
    "tags": []
   },
   "outputs": [
    {
     "data": {
      "text/plain": [
       "<Axes: >"
      ]
     },
     "execution_count": 50,
     "metadata": {},
     "output_type": "execute_result"
    },
    {
     "data": {
      "image/png": "[encoded data removed]",
      "text/plain": [
       "<Figure size 640x480 with 1 Axes>"
      ]
     },
     "metadata": {},
     "output_type": "display_data"
    }
   ],
   "source": [
    "churn_df.boxplot(['Bandwidth_GB_Year'])"
   ]
  },
  {
   "cell_type": "code",
   "execution_count": 51,
   "id": "843642c6-a191-4136-8bb0-c695fcec4df4",
   "metadata": {
    "tags": []
   },
   "outputs": [
    {
     "data": {
      "text/plain": [
       "<Axes: >"
      ]
     },
     "execution_count": 51,
     "metadata": {},
     "output_type": "execute_result"
    },
    {
     "data": {
      "image/png": "[encoded data removed]",
      "text/plain": [
       "<Figure size 640x480 with 1 Axes>"
      ]
     },
     "metadata": {},
     "output_type": "display_data"
    }
   ],
   "source": [
    "churn_df.boxplot(['Tenure'])"
   ]
  },
  {
   "cell_type": "code",
   "execution_count": 52,
   "id": "7dd6a147-68b5-4907-829c-4479df17a6c9",
   "metadata": {
    "tags": []
   },
   "outputs": [
    {
     "data": {
      "text/plain": [
       "<Axes: >"
      ]
     },
     "execution_count": 52,
     "metadata": {},
     "output_type": "execute_result"
    },
    {
     "data": {
      "image/png": "[encoded data removed]",
      "text/plain": [
       "<Figure size 640x480 with 1 Axes>"
      ]
     },
     "metadata": {},
     "output_type": "display_data"
    }
   ],
   "source": [
    "churn_df.boxplot(['MonthlyCharge'])"
   ]
  },
  {
   "cell_type": "code",
   "execution_count": 53,
   "id": "da67953b-29b9-4449-b0fd-09ad9952b00c",
   "metadata": {
    "tags": []
   },
   "outputs": [
    {
     "data": {
      "text/plain": [
       "<Axes: >"
      ]
     },
     "execution_count": 53,
     "metadata": {},
     "output_type": "execute_result"
    },
    {
     "data": {
      "image/png": "[encoded data removed]",
      "text/plain": [
       "<Figure size 640x480 with 1 Axes>"
      ]
     },
     "metadata": {},
     "output_type": "display_data"
    }
   ],
   "source": [
    "churn_df['MonthlyCharge'].hist()"
   ]
  },
  {
   "cell_type": "markdown",
   "id": "0640088f-63a0-4df2-927b-bc727a60d187",
   "metadata": {},
   "source": [
    "## Create Seaborn Boxplot for another view"
   ]
  },
  {
   "cell_type": "code",
   "execution_count": 54,
   "id": "a7446195-2d97-4977-9c2c-496a9443d7d2",
   "metadata": {
    "tags": []
   },
   "outputs": [
    {
     "data": {
      "text/plain": [
       "<Axes: xlabel='MonthlyCharge'>"
      ]
     },
     "execution_count": 54,
     "metadata": {},
     "output_type": "execute_result"
    },
    {
     "data": {
      "image/png": "[encoded data removed]",
      "text/plain": [
       "<Figure size 640x480 with 1 Axes>"
      ]
     },
     "metadata": {},
     "output_type": "display_data"
    }
   ],
   "source": [
    "sns.boxplot(x=churn_df['MonthlyCharge'])"
   ]
  },
  {
   "cell_type": "code",
   "execution_count": 55,
   "id": "0123966d-12ad-491a-bc98-68b4fcf543da",
   "metadata": {
    "tags": []
   },
   "outputs": [
    {
     "data": {
      "text/plain": [
       "<Axes: xlabel='Bandwidth_GB_Year'>"
      ]
     },
     "execution_count": 55,
     "metadata": {},
     "output_type": "execute_result"
    },
    {
     "data": {
      "image/png": "[encoded data removed]",
      "text/plain": [
       "<Figure size 640x480 with 1 Axes>"
      ]
     },
     "metadata": {},
     "output_type": "display_data"
    }
   ],
   "source": [
    "sns.boxplot(x=churn_df['Bandwidth_GB_Year'])"
   ]
  },
  {
   "cell_type": "markdown",
   "id": "e5f6e2c4-fe04-4774-9ff5-ba9646933269",
   "metadata": {},
   "source": [
    "# PCA"
   ]
  },
  {
   "cell_type": "markdown",
   "id": "63484842-e7fc-4725-ac1c-6ed507637dd8",
   "metadata": {},
   "source": [
    "##  Normalize the Data"
   ]
  },
  {
   "cell_type": "code",
   "execution_count": 64,
   "id": "5a23507b-461d-442d-a5f0-e2a80b0a185d",
   "metadata": {
    "tags": []
   },
   "outputs": [],
   "source": [
    "churn_xxx=churn_df[['Children', 'Age', 'Income', 'Population','Tenure', 'Bandwidth_GB_Year', 'MonthlyCharge']]\n",
    "churn_normalized= (churn_xxx-churn_xxx.mean())/churn_xxx.std()"
   ]
  },
  {
   "cell_type": "code",
   "execution_count": 65,
   "id": "6b5fa34a-efa4-4436-ae04-1931af7f2826",
   "metadata": {
    "tags": []
   },
   "outputs": [],
   "source": [
    "test_pca =churn_df[['Age', 'Income', 'Children']]\n",
    "test_pca_normalized=(test_pca-test_pca.mean())/test_pca.std()"
   ]
  },
  {
   "cell_type": "code",
   "execution_count": 66,
   "id": "92eedb88-e36e-4bc7-8409-ec1599f47be8",
   "metadata": {
    "tags": []
   },
   "outputs": [],
   "source": [
    "pca=PCA(n_components=churn_pca.shape[1])"
   ]
  },
  {
   "cell_type": "code",
   "execution_count": 67,
   "id": "9c26727d-eebb-483d-9559-8787d00365a6",
   "metadata": {
    "tags": []
   },
   "outputs": [
    {
     "data": {
      "text/html": [
       "<style>#sk-container-id-1 {color: black;background-color: white;}#sk-container-id-1 pre{padding: 0;}#sk-container-id-1 div.sk-toggleable {background-color: white;}#sk-container-id-1 label.sk-toggleable__label {cursor: pointer;display: block;width: 100%;margin-bottom: 0;padding: 0.3em;box-sizing: border-box;text-align: center;}#sk-container-id-1 label.sk-toggleable__label-arrow:before {content: \"▸\";float: left;margin-right: 0.25em;color: #696969;}#sk-container-id-1 label.sk-toggleable__label-arrow:hover:before {color: black;}#sk-container-id-1 div.sk-estimator:hover label.sk-toggleable__label-arrow:before {color: black;}#sk-container-id-1 div.sk-toggleable__content {max-height: 0;max-width: 0;overflow: hidden;text-align: left;background-color: #f0f8ff;}#sk-container-id-1 div.sk-toggleable__content pre {margin: 0.2em;color: black;border-radius: 0.25em;background-color: #f0f8ff;}#sk-container-id-1 input.sk-toggleable__control:checked~div.sk-toggleable__content {max-height: 200px;max-width: 100%;overflow: auto;}#sk-container-id-1 input.sk-toggleable__control:checked~label.sk-toggleable__label-arrow:before {content: \"▾\";}#sk-container-id-1 div.sk-estimator input.sk-toggleable__control:checked~label.sk-toggleable__label {background-color: #d4ebff;}#sk-container-id-1 div.sk-label input.sk-toggleable__control:checked~label.sk-toggleable__label {background-color: #d4ebff;}#sk-container-id-1 input.sk-hidden--visually {border: 0;clip: rect(1px 1px 1px 1px);clip: rect(1px, 1px, 1px, 1px);height: 1px;margin: -1px;overflow: hidden;padding: 0;position: absolute;width: 1px;}#sk-container-id-1 div.sk-estimator {font-family: monospace;background-color: #f0f8ff;border: 1px dotted black;border-radius: 0.25em;box-sizing: border-box;margin-bottom: 0.5em;}#sk-container-id-1 div.sk-estimator:hover {background-color: #d4ebff;}#sk-container-id-1 div.sk-parallel-item::after {content: \"\";width: 100%;border-bottom: 1px solid gray;flex-grow: 1;}#sk-container-id-1 div.sk-label:hover label.sk-toggleable__label {background-color: #d4ebff;}#sk-container-id-1 div.sk-serial::before {content: \"\";position: absolute;border-left: 1px solid gray;box-sizing: border-box;top: 0;bottom: 0;left: 50%;z-index: 0;}#sk-container-id-1 div.sk-serial {display: flex;flex-direction: column;align-items: center;background-color: white;padding-right: 0.2em;padding-left: 0.2em;position: relative;}#sk-container-id-1 div.sk-item {position: relative;z-index: 1;}#sk-container-id-1 div.sk-parallel {display: flex;align-items: stretch;justify-content: center;background-color: white;position: relative;}#sk-container-id-1 div.sk-item::before, #sk-container-id-1 div.sk-parallel-item::before {content: \"\";position: absolute;border-left: 1px solid gray;box-sizing: border-box;top: 0;bottom: 0;left: 50%;z-index: -1;}#sk-container-id-1 div.sk-parallel-item {display: flex;flex-direction: column;z-index: 1;position: relative;background-color: white;}#sk-container-id-1 div.sk-parallel-item:first-child::after {align-self: flex-end;width: 50%;}#sk-container-id-1 div.sk-parallel-item:last-child::after {align-self: flex-start;width: 50%;}#sk-container-id-1 div.sk-parallel-item:only-child::after {width: 0;}#sk-container-id-1 div.sk-dashed-wrapped {border: 1px dashed gray;margin: 0 0.4em 0.5em 0.4em;box-sizing: border-box;padding-bottom: 0.4em;background-color: white;}#sk-container-id-1 div.sk-label label {font-family: monospace;font-weight: bold;display: inline-block;line-height: 1.2em;}#sk-container-id-1 div.sk-label-container {text-align: center;}#sk-container-id-1 div.sk-container {/* jupyter's `normalize.less` sets `[hidden] { display: none; }` but bootstrap.min.css set `[hidden] { display: none !important; }` so we also need the `!important` here to be able to override the default hidden behavior on the sphinx rendered scikit-learn.org. See: https://github.com/scikit-learn/scikit-learn/issues/21755 */display: inline-block !important;position: relative;}#sk-container-id-1 div.sk-text-repr-fallback {display: none;}</style><div id=\"sk-container-id-1\" class=\"sk-top-container\"><div class=\"sk-text-repr-fallback\"><pre>PCA(n_components=7)</pre><b>In a Jupyter environment, please rerun this cell to show the HTML representation or trust the notebook. <br />On GitHub, the HTML representation is unable to render, please try loading this page with nbviewer.org.</b></div><div class=\"sk-container\" hidden><div class=\"sk-item\"><div class=\"sk-estimator sk-toggleable\"><input class=\"sk-toggleable__control sk-hidden--visually\" id=\"sk-estimator-id-1\" type=\"checkbox\" checked><label for=\"sk-estimator-id-1\" class=\"sk-toggleable__label sk-toggleable__label-arrow\">PCA</label><div class=\"sk-toggleable__content\"><pre>PCA(n_components=7)</pre></div></div></div></div></div>"
      ],
      "text/plain": [
       "PCA(n_components=7)"
      ]
     },
     "execution_count": 67,
     "metadata": {},
     "output_type": "execute_result"
    }
   ],
   "source": [
    "pca.fit(churn_normalized)"
   ]
  },
  {
   "cell_type": "code",
   "execution_count": 69,
   "id": "d2c19e64-a89f-447a-9d49-ae2dd0c1af72",
   "metadata": {
    "tags": []
   },
   "outputs": [],
   "source": [
    "churn_pca=pd.DataFrame(pca.transform(churn_normalized),\n",
    "columns=['PC1', 'PC2', 'PC3', 'PC4', 'PC5','PC6','PC7'])                      "
   ]
  },
  {
   "cell_type": "code",
   "execution_count": 70,
   "id": "9c4e1368-4c35-4b17-8643-de04c7669ade",
   "metadata": {
    "tags": []
   },
   "outputs": [
    {
     "ename": "ValueError",
     "evalue": "n_components=7 must be between 0 and min(n_samples, n_features)=3 with svd_solver='full'",
     "output_type": "error",
     "traceback": [
      "\u001b[1;31m---------------------------------------------------------------------------\u001b[0m",
      "\u001b[1;31mValueError\u001b[0m                                Traceback (most recent call last)",
      "Cell \u001b[1;32mIn[70], line 1\u001b[0m\n\u001b[1;32m----> 1\u001b[0m pca\u001b[38;5;241m.\u001b[39mfit(test_pca_normalized)\n",
      "File \u001b[1;32m~\\anaconda3\\envs\\D206_Practice_1\\Lib\\site-packages\\sklearn\\decomposition\\_pca.py:435\u001b[0m, in \u001b[0;36mPCA.fit\u001b[1;34m(self, X, y)\u001b[0m\n\u001b[0;32m    417\u001b[0m \u001b[38;5;250m\u001b[39m\u001b[38;5;124;03m\"\"\"Fit the model with X.\u001b[39;00m\n\u001b[0;32m    418\u001b[0m \n\u001b[0;32m    419\u001b[0m \u001b[38;5;124;03mParameters\u001b[39;00m\n\u001b[1;32m   (...)\u001b[0m\n\u001b[0;32m    431\u001b[0m \u001b[38;5;124;03m    Returns the instance itself.\u001b[39;00m\n\u001b[0;32m    432\u001b[0m \u001b[38;5;124;03m\"\"\"\u001b[39;00m\n\u001b[0;32m    433\u001b[0m \u001b[38;5;28mself\u001b[39m\u001b[38;5;241m.\u001b[39m_validate_params()\n\u001b[1;32m--> 435\u001b[0m \u001b[38;5;28mself\u001b[39m\u001b[38;5;241m.\u001b[39m_fit(X)\n\u001b[0;32m    436\u001b[0m \u001b[38;5;28;01mreturn\u001b[39;00m \u001b[38;5;28mself\u001b[39m\n",
      "File \u001b[1;32m~\\anaconda3\\envs\\D206_Practice_1\\Lib\\site-packages\\sklearn\\decomposition\\_pca.py:512\u001b[0m, in \u001b[0;36mPCA._fit\u001b[1;34m(self, X)\u001b[0m\n\u001b[0;32m    510\u001b[0m \u001b[38;5;66;03m# Call different fits for either full or truncated SVD\u001b[39;00m\n\u001b[0;32m    511\u001b[0m \u001b[38;5;28;01mif\u001b[39;00m \u001b[38;5;28mself\u001b[39m\u001b[38;5;241m.\u001b[39m_fit_svd_solver \u001b[38;5;241m==\u001b[39m \u001b[38;5;124m\"\u001b[39m\u001b[38;5;124mfull\u001b[39m\u001b[38;5;124m\"\u001b[39m:\n\u001b[1;32m--> 512\u001b[0m     \u001b[38;5;28;01mreturn\u001b[39;00m \u001b[38;5;28mself\u001b[39m\u001b[38;5;241m.\u001b[39m_fit_full(X, n_components)\n\u001b[0;32m    513\u001b[0m \u001b[38;5;28;01melif\u001b[39;00m \u001b[38;5;28mself\u001b[39m\u001b[38;5;241m.\u001b[39m_fit_svd_solver \u001b[38;5;129;01min\u001b[39;00m [\u001b[38;5;124m\"\u001b[39m\u001b[38;5;124marpack\u001b[39m\u001b[38;5;124m\"\u001b[39m, \u001b[38;5;124m\"\u001b[39m\u001b[38;5;124mrandomized\u001b[39m\u001b[38;5;124m\"\u001b[39m]:\n\u001b[0;32m    514\u001b[0m     \u001b[38;5;28;01mreturn\u001b[39;00m \u001b[38;5;28mself\u001b[39m\u001b[38;5;241m.\u001b[39m_fit_truncated(X, n_components, \u001b[38;5;28mself\u001b[39m\u001b[38;5;241m.\u001b[39m_fit_svd_solver)\n",
      "File \u001b[1;32m~\\anaconda3\\envs\\D206_Practice_1\\Lib\\site-packages\\sklearn\\decomposition\\_pca.py:526\u001b[0m, in \u001b[0;36mPCA._fit_full\u001b[1;34m(self, X, n_components)\u001b[0m\n\u001b[0;32m    522\u001b[0m         \u001b[38;5;28;01mraise\u001b[39;00m \u001b[38;5;167;01mValueError\u001b[39;00m(\n\u001b[0;32m    523\u001b[0m             \u001b[38;5;124m\"\u001b[39m\u001b[38;5;124mn_components=\u001b[39m\u001b[38;5;124m'\u001b[39m\u001b[38;5;124mmle\u001b[39m\u001b[38;5;124m'\u001b[39m\u001b[38;5;124m is only supported if n_samples >= n_features\u001b[39m\u001b[38;5;124m\"\u001b[39m\n\u001b[0;32m    524\u001b[0m         )\n\u001b[0;32m    525\u001b[0m \u001b[38;5;28;01melif\u001b[39;00m \u001b[38;5;129;01mnot\u001b[39;00m \u001b[38;5;241m0\u001b[39m \u001b[38;5;241m<\u001b[39m\u001b[38;5;241m=\u001b[39m n_components \u001b[38;5;241m<\u001b[39m\u001b[38;5;241m=\u001b[39m \u001b[38;5;28mmin\u001b[39m(n_samples, n_features):\n\u001b[1;32m--> 526\u001b[0m     \u001b[38;5;28;01mraise\u001b[39;00m \u001b[38;5;167;01mValueError\u001b[39;00m(\n\u001b[0;32m    527\u001b[0m         \u001b[38;5;124m\"\u001b[39m\u001b[38;5;124mn_components=\u001b[39m\u001b[38;5;132;01m%r\u001b[39;00m\u001b[38;5;124m must be between 0 and \u001b[39m\u001b[38;5;124m\"\u001b[39m\n\u001b[0;32m    528\u001b[0m         \u001b[38;5;124m\"\u001b[39m\u001b[38;5;124mmin(n_samples, n_features)=\u001b[39m\u001b[38;5;132;01m%r\u001b[39;00m\u001b[38;5;124m with \u001b[39m\u001b[38;5;124m\"\u001b[39m\n\u001b[0;32m    529\u001b[0m         \u001b[38;5;124m\"\u001b[39m\u001b[38;5;124msvd_solver=\u001b[39m\u001b[38;5;124m'\u001b[39m\u001b[38;5;124mfull\u001b[39m\u001b[38;5;124m'\u001b[39m\u001b[38;5;124m\"\u001b[39m \u001b[38;5;241m%\u001b[39m (n_components, \u001b[38;5;28mmin\u001b[39m(n_samples, n_features))\n\u001b[0;32m    530\u001b[0m     )\n\u001b[0;32m    532\u001b[0m \u001b[38;5;66;03m# Center data\u001b[39;00m\n\u001b[0;32m    533\u001b[0m \u001b[38;5;28mself\u001b[39m\u001b[38;5;241m.\u001b[39mmean_ \u001b[38;5;241m=\u001b[39m np\u001b[38;5;241m.\u001b[39mmean(X, axis\u001b[38;5;241m=\u001b[39m\u001b[38;5;241m0\u001b[39m)\n",
      "\u001b[1;31mValueError\u001b[0m: n_components=7 must be between 0 and min(n_samples, n_features)=3 with svd_solver='full'"
     ]
    }
   ],
   "source": [
    "pca.fit(test_pca_normalized)"
   ]
  },
  {
   "cell_type": "code",
   "execution_count": null,
   "id": "e0e5c364-2831-4199-99ca-cfca416ea76f",
   "metadata": {},
   "outputs": [],
   "source": []
  }
 ],
 "metadata": {
  "kernelspec": {
   "display_name": "Python 3 (ipykernel)",
   "language": "python",
   "name": "python3"
  },
  "language_info": {
   "codemirror_mode": {
    "name": "ipython",
    "version": 3
   },
   "file_extension": ".py",
   "mimetype": "text/x-python",
   "name": "python",
   "nbconvert_exporter": "python",
   "pygments_lexer": "ipython3",
   "version": "3.11.3"
  }
 },
 "nbformat": 4,
 "nbformat_minor": 5
}
